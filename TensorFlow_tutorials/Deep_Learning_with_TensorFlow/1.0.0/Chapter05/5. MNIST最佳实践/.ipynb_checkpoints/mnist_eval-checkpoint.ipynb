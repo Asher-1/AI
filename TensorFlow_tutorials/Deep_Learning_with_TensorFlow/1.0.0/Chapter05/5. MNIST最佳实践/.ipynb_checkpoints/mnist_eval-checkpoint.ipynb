{
 "cells": [
  {
   "cell_type": "code",
   "execution_count": 1,
   "metadata": {
    "collapsed": false
   },
   "outputs": [],
   "source": [
    "import time\n",
    "import tensorflow as tf\n",
    "from tensorflow.examples.tutorials.mnist import input_data\n",
    "import mnist_inference\n",
    "import mnist_train"
   ]
  },
  {
   "cell_type": "markdown",
   "metadata": {},
   "source": [
    "#### 1. 每10秒加载一次最新的模型"
   ]
  },
  {
   "cell_type": "code",
   "execution_count": null,
   "metadata": {
    "collapsed": true
   },
   "outputs": [],
   "source": [
    "# 加载的时间间隔。\n",
    "EVAL_INTERVAL_SECS = 10\n",
    "\n",
    "def evaluate(mnist):\n",
    "    with tf.Graph().as_default() as g:\n",
    "        x = tf.placeholder(tf.float32, [None, mnist_inference.INPUT_NODE], name='x-input')\n",
    "        y_ = tf.placeholder(tf.float32, [None, mnist_inference.OUTPUT_NODE], name='y-input')\n",
    "        validate_feed = {x: mnist.validation.images, y_: mnist.validation.labels}\n",
    "\n",
    "        y = mnist_inference.inference(x, None)\n",
    "        correct_prediction = tf.equal(tf.argmax(y, 1), tf.argmax(y_, 1))\n",
    "        accuracy = tf.reduce_mean(tf.cast(correct_prediction, tf.float32))\n",
    "\n",
    "        variable_averages = tf.train.ExponentialMovingAverage(mnist_train.MOVING_AVERAGE_DECAY)\n",
    "        variables_to_restore = variable_averages.variables_to_restore()\n",
    "        saver = tf.train.Saver(variables_to_restore)\n",
    "\n",
    "        while True:\n",
    "            with tf.Session() as sess:\n",
    "                ckpt = tf.train.get_checkpoint_state(mnist_train.MODEL_SAVE_PATH)\n",
    "                if ckpt and ckpt.model_checkpoint_path:\n",
    "                    saver.restore(sess, ckpt.model_checkpoint_path)\n",
    "                    global_step = ckpt.model_checkpoint_path.split('/')[-1].split('-')[-1]\n",
    "                    accuracy_score = sess.run(accuracy, feed_dict=validate_feed)\n",
    "                    print(\"After %s training step(s), validation accuracy = %g\" % (global_step, accuracy_score))\n",
    "                else:\n",
    "                    print('No checkpoint file found')\n",
    "                    return\n",
    "            time.sleep(EVAL_INTERVAL_SECS)"
   ]
  },
  {
   "cell_type": "markdown",
   "metadata": {},
   "source": [
    "###  主程序"
   ]
  },
  {
   "cell_type": "code",
   "execution_count": null,
   "metadata": {
    "collapsed": false
   },
   "outputs": [
    {
     "name": "stdout",
     "output_type": "stream",
     "text": [
      "Extracting ../../../Data_sets/MNIST_data/train-images-idx3-ubyte.gz\n",
      "Extracting ../../../Data_sets/MNIST_data/train-labels-idx1-ubyte.gz\n",
      "Extracting ../../../Data_sets/MNIST_data/t10k-images-idx3-ubyte.gz\n",
      "Extracting ../../../Data_sets/MNIST_data/t10k-labels-idx1-ubyte.gz\n",
      "After 4001 training step(s), validation accuracy = 0.9844\n",
      "After 5001 training step(s), validation accuracy = 0.9852\n",
      "After 6001 training step(s), validation accuracy = 0.985\n",
      "After 7001 training step(s), validation accuracy = 0.986\n",
      "After 8001 training step(s), validation accuracy = 0.9844\n",
      "After 9001 training step(s), validation accuracy = 0.986\n",
      "After 10001 training step(s), validation accuracy = 0.9852\n",
      "After 11001 training step(s), validation accuracy = 0.9842\n",
      "After 12001 training step(s), validation accuracy = 0.9854\n",
      "After 13001 training step(s), validation accuracy = 0.9856\n",
      "After 14001 training step(s), validation accuracy = 0.9852\n",
      "After 15001 training step(s), validation accuracy = 0.9852\n",
      "After 16001 training step(s), validation accuracy = 0.9846\n",
      "After 18001 training step(s), validation accuracy = 0.985\n",
      "After 19001 training step(s), validation accuracy = 0.9852\n",
      "After 20001 training step(s), validation accuracy = 0.9852\n",
      "After 21001 training step(s), validation accuracy = 0.9856\n",
      "After 22001 training step(s), validation accuracy = 0.9846\n",
      "After 23001 training step(s), validation accuracy = 0.9854\n"
     ]
    }
   ],
   "source": [
    "def main(argv=None):\n",
    "    mnist = input_data.read_data_sets(\"../../../Data_sets/MNIST_data\", one_hot=True)\n",
    "    evaluate(mnist)\n",
    "\n",
    "if __name__ == '__main__':\n",
    "    main()"
   ]
  }
 ],
 "metadata": {
  "kernelspec": {
   "display_name": "Python 2",
   "language": "python",
   "name": "python2"
  },
  "language_info": {
   "codemirror_mode": {
    "name": "ipython",
    "version": 2
   },
   "file_extension": ".py",
   "mimetype": "text/x-python",
   "name": "python",
   "nbconvert_exporter": "python",
   "pygments_lexer": "ipython2",
   "version": "2.7.10"
  }
 },
 "nbformat": 4,
 "nbformat_minor": 1
}
