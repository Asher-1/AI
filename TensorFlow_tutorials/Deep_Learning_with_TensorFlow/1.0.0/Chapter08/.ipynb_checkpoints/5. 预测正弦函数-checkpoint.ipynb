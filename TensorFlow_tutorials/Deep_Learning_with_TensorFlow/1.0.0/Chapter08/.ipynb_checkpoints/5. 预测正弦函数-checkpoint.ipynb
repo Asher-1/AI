{
 "cells": [
  {
   "cell_type": "code",
   "execution_count": 1,
   "metadata": {
    "collapsed": true
   },
   "outputs": [],
   "source": [
    "import numpy as np\n",
    "import tensorflow as tf\n",
    "from tensorflow.contrib.learn.python.learn.estimators.estimator import SKCompat\n",
    "from tensorflow.python.ops import array_ops as array_ops_\n",
    "import matplotlib.pyplot as plt\n",
    "learn = tf.contrib.learn"
   ]
  },
  {
   "cell_type": "markdown",
   "metadata": {},
   "source": [
    "#### 1. 设置神经网络的参数。"
   ]
  },
  {
   "cell_type": "code",
   "execution_count": 2,
   "metadata": {
    "collapsed": true
   },
   "outputs": [],
   "source": [
    "HIDDEN_SIZE = 30\n",
    "NUM_LAYERS = 2\n",
    "\n",
    "TIMESTEPS = 10\n",
    "TRAINING_STEPS = 3000\n",
    "BATCH_SIZE = 32\n",
    "\n",
    "TRAINING_EXAMPLES = 10000\n",
    "TESTING_EXAMPLES = 1000\n",
    "SAMPLE_GAP = 0.01"
   ]
  },
  {
   "cell_type": "markdown",
   "metadata": {},
   "source": [
    "#### 2. 定义生成正弦数据的函数。"
   ]
  },
  {
   "cell_type": "code",
   "execution_count": 3,
   "metadata": {
    "collapsed": true
   },
   "outputs": [],
   "source": [
    "def generate_data(seq):\n",
    "    X = []\n",
    "    y = []\n",
    "\n",
    "    for i in range(len(seq) - TIMESTEPS - 1):\n",
    "        X.append([seq[i: i + TIMESTEPS]])\n",
    "        y.append([seq[i + TIMESTEPS]])\n",
    "    return np.array(X, dtype=np.float32), np.array(y, dtype=np.float32)"
   ]
  },
  {
   "cell_type": "markdown",
   "metadata": {},
   "source": [
    "#### 3. 定义lstm模型。"
   ]
  },
  {
   "cell_type": "code",
   "execution_count": 4,
   "metadata": {
    "collapsed": false
   },
   "outputs": [],
   "source": [
    "def lstm_model(X, y):\n",
    "    lstm_cell = tf.contrib.rnn.BasicLSTMCell(HIDDEN_SIZE, state_is_tuple=True)\n",
    "    cell = tf.contrib.rnn.MultiRNNCell([lstm_cell] * NUM_LAYERS)\n",
    "    \n",
    "    output, _ = tf.nn.dynamic_rnn(cell, X, dtype=tf.float32)\n",
    "    output = tf.reshape(output, [-1, HIDDEN_SIZE])\n",
    "    \n",
    "    # 通过无激活函数的全联接层计算线性回归，并将数据压缩成一维数组的结构。\n",
    "    predictions = tf.contrib.layers.fully_connected(output, 1, None)\n",
    "    \n",
    "    # 将predictions和labels调整统一的shape\n",
    "    labels = tf.reshape(y, [-1])\n",
    "    predictions=tf.reshape(predictions, [-1])\n",
    "    \n",
    "    loss = tf.losses.mean_squared_error(predictions, labels)\n",
    "    \n",
    "    train_op = tf.contrib.layers.optimize_loss(\n",
    "        loss, tf.contrib.framework.get_global_step(),\n",
    "        optimizer=\"Adagrad\", learning_rate=0.1)\n",
    "\n",
    "    return predictions, loss, train_op"
   ]
  },
  {
   "cell_type": "markdown",
   "metadata": {},
   "source": [
    "#### 4. 进行训练。"
   ]
  },
  {
   "cell_type": "code",
   "execution_count": 5,
   "metadata": {
    "collapsed": false
   },
   "outputs": [
    {
     "name": "stdout",
     "output_type": "stream",
     "text": [
      "INFO:tensorflow:Using default config.\n",
      "INFO:tensorflow:Using config: {'_save_checkpoints_secs': 600, '_num_ps_replicas': 0, '_keep_checkpoint_max': 5, '_tf_random_seed': None, '_task_type': None, '_environment': 'local', '_is_chief': True, '_cluster_spec': <tensorflow.python.training.server_lib.ClusterSpec object at 0x119ad8710>, '_tf_config': gpu_options {\n",
      "  per_process_gpu_memory_fraction: 1\n",
      "}\n",
      ", '_task_id': 0, '_save_summary_steps': 100, '_save_checkpoints_steps': None, '_evaluation_master': '', '_keep_checkpoint_every_n_hours': 10000, '_master': ''}\n",
      "INFO:tensorflow:Create CheckpointSaverHook.\n",
      "INFO:tensorflow:Saving checkpoints for 1 into Models/model_2/model.ckpt.\n",
      "INFO:tensorflow:loss = 0.471095, step = 1\n",
      "INFO:tensorflow:global_step/sec: 173.716\n",
      "INFO:tensorflow:loss = 0.00448387, step = 101\n",
      "INFO:tensorflow:global_step/sec: 201.549\n",
      "INFO:tensorflow:loss = 0.00480363, step = 201\n",
      "INFO:tensorflow:global_step/sec: 244.955\n",
      "INFO:tensorflow:loss = 0.00295847, step = 301\n",
      "INFO:tensorflow:global_step/sec: 231.72\n",
      "INFO:tensorflow:loss = 0.00323874, step = 401\n",
      "INFO:tensorflow:global_step/sec: 229.901\n",
      "INFO:tensorflow:loss = 0.00277111, step = 501\n",
      "INFO:tensorflow:global_step/sec: 214.453\n",
      "INFO:tensorflow:loss = 0.00234438, step = 601\n",
      "INFO:tensorflow:global_step/sec: 228.519\n",
      "INFO:tensorflow:loss = 0.0014909, step = 701\n",
      "INFO:tensorflow:global_step/sec: 212.489\n",
      "INFO:tensorflow:loss = 0.00161509, step = 801\n",
      "INFO:tensorflow:global_step/sec: 157.243\n",
      "INFO:tensorflow:loss = 0.00123978, step = 901\n",
      "INFO:tensorflow:global_step/sec: 219.845\n",
      "INFO:tensorflow:loss = 0.000969014, step = 1001\n",
      "INFO:tensorflow:global_step/sec: 164.105\n",
      "INFO:tensorflow:loss = 0.000936846, step = 1101\n",
      "INFO:tensorflow:global_step/sec: 208.116\n",
      "INFO:tensorflow:loss = 0.000950876, step = 1201\n",
      "INFO:tensorflow:global_step/sec: 207.19\n",
      "INFO:tensorflow:loss = 0.000676721, step = 1301\n",
      "INFO:tensorflow:global_step/sec: 207.74\n",
      "INFO:tensorflow:loss = 0.000745721, step = 1401\n",
      "INFO:tensorflow:global_step/sec: 210.699\n",
      "INFO:tensorflow:loss = 0.000817075, step = 1501\n",
      "INFO:tensorflow:global_step/sec: 139.253\n",
      "INFO:tensorflow:loss = 0.000610742, step = 1601\n",
      "INFO:tensorflow:global_step/sec: 234.097\n",
      "INFO:tensorflow:loss = 0.000541723, step = 1701\n",
      "INFO:tensorflow:global_step/sec: 136.783\n",
      "INFO:tensorflow:loss = 0.000583566, step = 1801\n",
      "INFO:tensorflow:global_step/sec: 133.179\n",
      "INFO:tensorflow:loss = 0.000406743, step = 1901\n",
      "INFO:tensorflow:global_step/sec: 156.953\n",
      "INFO:tensorflow:loss = 0.000274334, step = 2001\n",
      "INFO:tensorflow:global_step/sec: 195.584\n",
      "INFO:tensorflow:loss = 0.000244745, step = 2101\n",
      "INFO:tensorflow:global_step/sec: 214.43\n",
      "INFO:tensorflow:loss = 0.000346831, step = 2201\n",
      "INFO:tensorflow:global_step/sec: 175.018\n",
      "INFO:tensorflow:loss = 0.000169505, step = 2301\n",
      "INFO:tensorflow:global_step/sec: 134.105\n",
      "INFO:tensorflow:loss = 0.000145064, step = 2401\n",
      "INFO:tensorflow:global_step/sec: 151.319\n",
      "INFO:tensorflow:loss = 0.000139081, step = 2501\n",
      "INFO:tensorflow:global_step/sec: 208.27\n",
      "INFO:tensorflow:loss = 0.000138659, step = 2601\n",
      "INFO:tensorflow:global_step/sec: 183.513\n",
      "INFO:tensorflow:loss = 0.000142868, step = 2701\n",
      "INFO:tensorflow:global_step/sec: 210.27\n",
      "INFO:tensorflow:loss = 9.81593e-05, step = 2801\n",
      "INFO:tensorflow:global_step/sec: 240.455\n",
      "INFO:tensorflow:loss = 7.38175e-05, step = 2901\n",
      "INFO:tensorflow:Saving checkpoints for 3000 into Models/model_2/model.ckpt.\n",
      "INFO:tensorflow:Loss for final step: 8.55745e-05.\n",
      "Mean Square Error is: 0.008203\n"
     ]
    }
   ],
   "source": [
    "# 封装之前定义的lstm。\n",
    "regressor = SKCompat(learn.Estimator(model_fn=lstm_model,model_dir=\"Models/model_2\"))\n",
    "\n",
    "# 生成数据。\n",
    "test_start = TRAINING_EXAMPLES * SAMPLE_GAP\n",
    "test_end = (TRAINING_EXAMPLES + TESTING_EXAMPLES) * SAMPLE_GAP\n",
    "train_X, train_y = generate_data(np.sin(np.linspace(\n",
    "    0, test_start, TRAINING_EXAMPLES, dtype=np.float32)))\n",
    "test_X, test_y = generate_data(np.sin(np.linspace(\n",
    "    test_start, test_end, TESTING_EXAMPLES, dtype=np.float32)))\n",
    "\n",
    "# 拟合数据。\n",
    "regressor.fit(train_X, train_y, batch_size=BATCH_SIZE, steps=TRAINING_STEPS)\n",
    "\n",
    "# 计算预测值。\n",
    "predicted = [[pred] for pred in regressor.predict(test_X)]\n",
    "\n",
    "# 计算MSE。\n",
    "rmse = np.sqrt(((predicted - test_y) ** 2).mean(axis=0))\n",
    "print (\"Mean Square Error is: %f\" % rmse[0])"
   ]
  },
  {
   "cell_type": "markdown",
   "metadata": {},
   "source": [
    "#### 5. 画出预测值和真实值的曲线。"
   ]
  },
  {
   "cell_type": "code",
   "execution_count": 6,
   "metadata": {
    "collapsed": false
   },
   "outputs": [
    {
     "data": {
      "image/png": "[encoded data removed]",
      "text/plain": [
       "<matplotlib.figure.Figure at 0x11b09cbd0>"
      ]
     },
     "metadata": {},
     "output_type": "display_data"
    }
   ],
   "source": [
    "plot_predicted, = plt.plot(predicted, label='predicted')\n",
    "plot_test, = plt.plot(test_y, label='real_sin')\n",
    "plt.legend([plot_predicted, plot_test],['predicted', 'real_sin'])\n",
    "plt.show()"
   ]
  }
 ],
 "metadata": {
  "kernelspec": {
   "display_name": "Python 2",
   "language": "python",
   "name": "python2"
  },
  "language_info": {
   "codemirror_mode": {
    "name": "ipython",
    "version": 2
   },
   "file_extension": ".py",
   "mimetype": "text/x-python",
   "name": "python",
   "nbconvert_exporter": "python",
   "pygments_lexer": "ipython2",
   "version": "2.7.10"
  }
 },
 "nbformat": 4,
 "nbformat_minor": 1
}
