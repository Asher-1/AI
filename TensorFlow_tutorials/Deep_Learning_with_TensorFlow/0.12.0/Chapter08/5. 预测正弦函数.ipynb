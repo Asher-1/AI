{
 "cells": [
  {
   "cell_type": "code",
   "execution_count": 1,
   "metadata": {
    "collapsed": true
   },
   "outputs": [],
   "source": [
    "import numpy as np\n",
    "import tensorflow as tf\n",
    "from tensorflow.contrib.learn.python.learn.estimators.estimator import SKCompat\n",
    "from tensorflow.python.ops import array_ops as array_ops_\n",
    "import matplotlib.pyplot as plt\n",
    "learn = tf.contrib.learn"
   ]
  },
  {
   "cell_type": "markdown",
   "metadata": {},
   "source": [
    "#### 1. 设置神经网络的参数。"
   ]
  },
  {
   "cell_type": "code",
   "execution_count": 2,
   "metadata": {
    "collapsed": true
   },
   "outputs": [],
   "source": [
    "HIDDEN_SIZE = 30\n",
    "NUM_LAYERS = 2\n",
    "\n",
    "TIMESTEPS = 10\n",
    "TRAINING_STEPS = 3000\n",
    "BATCH_SIZE = 32\n",
    "\n",
    "TRAINING_EXAMPLES = 10000\n",
    "TESTING_EXAMPLES = 1000\n",
    "SAMPLE_GAP = 0.01"
   ]
  },
  {
   "cell_type": "markdown",
   "metadata": {},
   "source": [
    "#### 2. 定义生成正弦数据的函数。"
   ]
  },
  {
   "cell_type": "code",
   "execution_count": 3,
   "metadata": {
    "collapsed": true
   },
   "outputs": [],
   "source": [
    "def generate_data(seq):\n",
    "    X = []\n",
    "    y = []\n",
    "\n",
    "    for i in range(len(seq) - TIMESTEPS - 1):\n",
    "        X.append([seq[i: i + TIMESTEPS]])\n",
    "        y.append([seq[i + TIMESTEPS]])\n",
    "    return np.array(X, dtype=np.float32), np.array(y, dtype=np.float32)"
   ]
  },
  {
   "cell_type": "markdown",
   "metadata": {},
   "source": [
    "#### 3. 定义lstm模型。"
   ]
  },
  {
   "cell_type": "code",
   "execution_count": 4,
   "metadata": {
    "collapsed": false
   },
   "outputs": [],
   "source": [
    "def lstm_model(X, y):\n",
    "    lstm_cell = tf.nn.rnn_cell.BasicLSTMCell(HIDDEN_SIZE)\n",
    "    cell = tf.nn.rnn_cell.MultiRNNCell([lstm_cell] * NUM_LAYERS)\n",
    "    x_ = tf.unpack(X, axis=1)\n",
    "\n",
    "    output, _ = tf.nn.rnn(cell, x_, dtype=tf.float32)\n",
    "    output = output[-1]\n",
    "    \n",
    "    # 通过无激活函数的全联接层计算线性回归，并将数据压缩成一维数组的结构。\n",
    "    predictions = tf.contrib.layers.fully_connected(output, 1, None)\n",
    "    predictions = array_ops_.squeeze(predictions, squeeze_dims=[1])\n",
    "    loss = tf.contrib.losses.mean_squared_error(predictions, y)\n",
    "    \n",
    "    train_op = tf.contrib.layers.optimize_loss(\n",
    "        loss, tf.contrib.framework.get_global_step(),\n",
    "        optimizer=\"Adagrad\", learning_rate=0.1)\n",
    "\n",
    "    return predictions, loss, train_op"
   ]
  },
  {
   "cell_type": "markdown",
   "metadata": {},
   "source": [
    "#### 4. 进行训练。"
   ]
  },
  {
   "cell_type": "code",
   "execution_count": 5,
   "metadata": {
    "collapsed": false
   },
   "outputs": [
    {
     "name": "stdout",
     "output_type": "stream",
     "text": [
      "INFO:tensorflow:Using default config.\n",
      "INFO:tensorflow:Using config: {'save_summary_steps': 100, '_num_ps_replicas': 0, '_task_type': None, '_environment': 'local', '_is_chief': True, 'save_checkpoints_secs': 600, '_cluster_spec': <tensorflow.python.training.server_lib.ClusterSpec object at 0x1099f2f50>, 'tf_config': gpu_options {\n",
      "  per_process_gpu_memory_fraction: 1\n",
      "}\n",
      ", '_task_id': 0, 'tf_random_seed': None, 'keep_checkpoint_every_n_hours': 10000, '_evaluation_master': '', 'save_checkpoints_steps': None, '_master': '', 'keep_checkpoint_max': 5}\n",
      "INFO:tensorflow:Create CheckpointSaverHook.\n",
      "INFO:tensorflow:loss = 3.94731e-05, step = 3001\n",
      "INFO:tensorflow:Saving checkpoints for 3001 into Models/model_2/model.ckpt.\n",
      "WARNING:tensorflow:*******************************************************\n",
      "WARNING:tensorflow:TensorFlow's V1 checkpoint format has been deprecated.\n",
      "WARNING:tensorflow:Consider switching to the more efficient V2 format:\n",
      "WARNING:tensorflow:   `tf.train.Saver(write_version=tf.train.SaverDef.V2)`\n",
      "WARNING:tensorflow:now on by default.\n",
      "WARNING:tensorflow:*******************************************************\n",
      "INFO:tensorflow:loss = 2.38348e-05, step = 3101\n",
      "INFO:tensorflow:global_step/sec: 154.849\n",
      "INFO:tensorflow:loss = 2.27452e-05, step = 3201\n",
      "INFO:tensorflow:global_step/sec: 537.924\n",
      "INFO:tensorflow:loss = 2.27922e-05, step = 3301\n",
      "INFO:tensorflow:global_step/sec: 527.629\n",
      "INFO:tensorflow:loss = 1.57832e-05, step = 3401\n",
      "INFO:tensorflow:global_step/sec: 526.432\n",
      "INFO:tensorflow:loss = 1.40777e-05, step = 3501\n",
      "INFO:tensorflow:global_step/sec: 518.953\n",
      "INFO:tensorflow:loss = 1.19807e-05, step = 3601\n",
      "INFO:tensorflow:global_step/sec: 506.488\n",
      "INFO:tensorflow:loss = 1.2314e-05, step = 3701\n",
      "INFO:tensorflow:global_step/sec: 523.456\n",
      "INFO:tensorflow:loss = 1.19064e-05, step = 3801\n",
      "INFO:tensorflow:global_step/sec: 526.552\n",
      "INFO:tensorflow:loss = 1.56673e-05, step = 3901\n",
      "INFO:tensorflow:global_step/sec: 522.046\n",
      "INFO:tensorflow:loss = 1.40795e-05, step = 4001\n",
      "INFO:tensorflow:global_step/sec: 528.357\n",
      "INFO:tensorflow:loss = 9.85558e-06, step = 4101\n",
      "INFO:tensorflow:global_step/sec: 425.847\n",
      "INFO:tensorflow:loss = 7.54058e-06, step = 4201\n",
      "INFO:tensorflow:global_step/sec: 433.037\n",
      "INFO:tensorflow:loss = 6.92728e-06, step = 4301\n",
      "INFO:tensorflow:global_step/sec: 530.077\n",
      "INFO:tensorflow:loss = 7.93469e-06, step = 4401\n",
      "INFO:tensorflow:global_step/sec: 491.221\n",
      "INFO:tensorflow:loss = 7.54749e-06, step = 4501\n",
      "INFO:tensorflow:global_step/sec: 479.614\n",
      "INFO:tensorflow:loss = 8.47572e-06, step = 4601\n",
      "INFO:tensorflow:global_step/sec: 498.43\n",
      "INFO:tensorflow:loss = 8.97694e-06, step = 4701\n",
      "INFO:tensorflow:global_step/sec: 457.546\n",
      "INFO:tensorflow:loss = 5.7422e-06, step = 4801\n",
      "INFO:tensorflow:global_step/sec: 429.946\n",
      "INFO:tensorflow:loss = 8.17294e-06, step = 4901\n",
      "INFO:tensorflow:global_step/sec: 454.108\n",
      "INFO:tensorflow:loss = 6.75722e-06, step = 5001\n",
      "INFO:tensorflow:global_step/sec: 478.243\n",
      "INFO:tensorflow:loss = 6.64879e-06, step = 5101\n",
      "INFO:tensorflow:global_step/sec: 448.032\n",
      "INFO:tensorflow:loss = 5.48748e-06, step = 5201\n",
      "INFO:tensorflow:global_step/sec: 477.263\n",
      "INFO:tensorflow:loss = 4.18902e-06, step = 5301\n",
      "INFO:tensorflow:global_step/sec: 440.713\n",
      "INFO:tensorflow:loss = 4.19556e-06, step = 5401\n",
      "INFO:tensorflow:global_step/sec: 403.536\n",
      "INFO:tensorflow:loss = 7.1483e-06, step = 5501\n",
      "INFO:tensorflow:global_step/sec: 498.763\n",
      "INFO:tensorflow:loss = 7.22938e-06, step = 5601\n",
      "INFO:tensorflow:global_step/sec: 522.139\n",
      "INFO:tensorflow:loss = 4.95879e-06, step = 5701\n",
      "INFO:tensorflow:global_step/sec: 445.262\n",
      "INFO:tensorflow:loss = 5.59933e-06, step = 5801\n",
      "INFO:tensorflow:global_step/sec: 386.62\n",
      "INFO:tensorflow:loss = 5.86278e-06, step = 5901\n",
      "INFO:tensorflow:global_step/sec: 525.389\n",
      "INFO:tensorflow:Saving checkpoints for 6000 into Models/model_2/model.ckpt.\n",
      "WARNING:tensorflow:*******************************************************\n",
      "WARNING:tensorflow:TensorFlow's V1 checkpoint format has been deprecated.\n",
      "WARNING:tensorflow:Consider switching to the more efficient V2 format:\n",
      "WARNING:tensorflow:   `tf.train.Saver(write_version=tf.train.SaverDef.V2)`\n",
      "WARNING:tensorflow:now on by default.\n",
      "WARNING:tensorflow:*******************************************************\n",
      "INFO:tensorflow:Loss for final step: 5.32497e-06.\n",
      "INFO:tensorflow:Loading model from checkpoint: Models/model_2/model.ckpt-6000-?????-of-00001.\n",
      "Mean Square Error is: 0.002470\n"
     ]
    }
   ],
   "source": [
    "# 封装之前定义的lstm。\n",
    "regressor = SKCompat(learn.Estimator(model_fn=lstm_model,model_dir=\"Models/model_2\"))\n",
    "\n",
    "# 生成数据。\n",
    "test_start = TRAINING_EXAMPLES * SAMPLE_GAP\n",
    "test_end = (TRAINING_EXAMPLES + TESTING_EXAMPLES) * SAMPLE_GAP\n",
    "train_X, train_y = generate_data(np.sin(np.linspace(\n",
    "    0, test_start, TRAINING_EXAMPLES, dtype=np.float32)))\n",
    "test_X, test_y = generate_data(np.sin(np.linspace(\n",
    "    test_start, test_end, TESTING_EXAMPLES, dtype=np.float32)))\n",
    "\n",
    "# 拟合数据。\n",
    "regressor.fit(train_X, train_y, batch_size=BATCH_SIZE, steps=TRAINING_STEPS)\n",
    "\n",
    "# 计算预测值。\n",
    "predicted = [[pred] for pred in regressor.predict(test_X)]\n",
    "\n",
    "# 计算MSE。\n",
    "rmse = np.sqrt(((predicted - test_y) ** 2).mean(axis=0))\n",
    "print (\"Mean Square Error is: %f\" % rmse[0])"
   ]
  },
  {
   "cell_type": "markdown",
   "metadata": {},
   "source": [
    "#### 5. 画出预测值和真实值的曲线。"
   ]
  },
  {
   "cell_type": "code",
   "execution_count": 6,
   "metadata": {
    "collapsed": false
   },
   "outputs": [
    {
     "data": {
      "image/png": "[encoded data removed]",
      "text/plain": [
       "<matplotlib.figure.Figure at 0x11806dd50>"
      ]
     },
     "metadata": {},
     "output_type": "display_data"
    }
   ],
   "source": [
    "plot_predicted, = plt.plot(predicted, label='predicted')\n",
    "plot_test, = plt.plot(test_y, label='real_sin')\n",
    "plt.legend([plot_predicted, plot_test],['predicted', 'real_sin'])\n",
    "plt.show()"
   ]
  }
 ],
 "metadata": {
  "kernelspec": {
   "display_name": "Python 2",
   "language": "python",
   "name": "python2"
  },
  "language_info": {
   "codemirror_mode": {
    "name": "ipython",
    "version": 2
   },
   "file_extension": ".py",
   "mimetype": "text/x-python",
   "name": "python",
   "nbconvert_exporter": "python",
   "pygments_lexer": "ipython2",
   "version": "2.7.10"
  }
 },
 "nbformat": 4,
 "nbformat_minor": 1
}
