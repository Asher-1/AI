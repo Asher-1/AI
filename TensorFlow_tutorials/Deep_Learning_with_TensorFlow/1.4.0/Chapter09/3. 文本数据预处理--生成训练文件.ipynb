{
 "cells": [
  {
   "cell_type": "code",
   "execution_count": 9,
   "metadata": {},
   "outputs": [],
   "source": [
    "import codecs\n",
    "import sys"
   ]
  },
  {
   "cell_type": "markdown",
   "metadata": {},
   "source": [
    "#### 1. 参数设置。"
   ]
  },
  {
   "cell_type": "code",
   "execution_count": 10,
   "metadata": {},
   "outputs": [],
   "source": [
    "MODE = \"PTB_TRAIN\"    # 将MODE设置为\"PTB_TRAIN\", \"PTB_VALID\", \"PTB_TEST\", \"TRANSLATE_EN\", \"TRANSLATE_ZH\"之一。\n",
    "\n",
    "if MODE == \"PTB_TRAIN\":        # PTB训练数据\n",
    "    RAW_DATA = \"../../datasets/PTB_data/ptb.train.txt\"  # 训练集数据文件\n",
    "    VOCAB = \"ptb.vocab\"                                 # 词汇表文件\n",
    "    OUTPUT_DATA = \"ptb.train\"                           # 将单词替换为单词编号后的输出文件\n",
    "elif MODE == \"PTB_VALID\":      # PTB验证数据\n",
    "    RAW_DATA = \"../../datasets/PTB_data/ptb.valid.txt\"\n",
    "    VOCAB = \"ptb.vocab\"\n",
    "    OUTPUT_DATA = \"ptb.valid\"\n",
    "elif MODE == \"PTB_TEST\":       # PTB测试数据\n",
    "    RAW_DATA = \"../../datasets/PTB_data/ptb.test.txt\"\n",
    "    VOCAB = \"ptb.vocab\"\n",
    "    OUTPUT_DATA = \"ptb.test\"\n",
    "elif MODE == \"TRANSLATE_ZH\":   # 中文翻译数据\n",
    "    RAW_DATA = \"../../datasets/TED_data/train.txt.zh\"\n",
    "    VOCAB = \"zh.vocab\"\n",
    "    OUTPUT_DATA = \"train.zh\"\n",
    "elif MODE == \"TRANSLATE_EN\":   # 英文翻译数据\n",
    "    RAW_DATA = \"../../datasets/TED_data/train.txt.en\"\n",
    "    VOCAB = \"en.vocab\"\n",
    "    OUTPUT_DATA = \"train.en\""
   ]
  },
  {
   "cell_type": "markdown",
   "metadata": {},
   "source": [
    "#### 2.按词汇表对将单词映射到编号。"
   ]
  },
  {
   "cell_type": "code",
   "execution_count": 11,
   "metadata": {},
   "outputs": [],
   "source": [
    "# 读取词汇表，并建立词汇到单词编号的映射。\n",
    "with codecs.open(VOCAB, \"r\", \"utf-8\") as f_vocab:\n",
    "    vocab = [w.strip() for w in f_vocab.readlines()]\n",
    "word_to_id = {k: v for (k, v) in zip(vocab, range(len(vocab)))}\n",
    "\n",
    "# 如果出现了不在词汇表内的低频词，则替换为\"unk\"。\n",
    "def get_id(word):\n",
    "    return word_to_id[word] if word in word_to_id else word_to_id[\"<unk>\"]"
   ]
  },
  {
   "cell_type": "markdown",
   "metadata": {},
   "source": [
    "#### 3.对数据进行替换并保存结果。"
   ]
  },
  {
   "cell_type": "code",
   "execution_count": 12,
   "metadata": {},
   "outputs": [],
   "source": [
    "fin = codecs.open(RAW_DATA, \"r\", \"utf-8\")\n",
    "fout = codecs.open(OUTPUT_DATA, 'w', 'utf-8')\n",
    "for line in fin:\n",
    "    words = line.strip().split() + [\"<eos>\"]  # 读取单词并添加<eos>结束符\n",
    "    # 将每个单词替换为词汇表中的编号\n",
    "    out_line = ' '.join([str(get_id(w)) for w in words]) + '\\n'\n",
    "    fout.write(out_line)\n",
    "fin.close()\n",
    "fout.close()\n"
   ]
  },
  {
   "cell_type": "code",
   "execution_count": null,
   "metadata": {},
   "outputs": [],
   "source": []
  }
 ],
 "metadata": {
  "kernelspec": {
   "display_name": "Python 3",
   "language": "python",
   "name": "python3"
  },
  "language_info": {
   "codemirror_mode": {
    "name": "ipython",
    "version": 3
   },
   "file_extension": ".py",
   "mimetype": "text/x-python",
   "name": "python",
   "nbconvert_exporter": "python",
   "pygments_lexer": "ipython3",
   "version": "3.5.4"
  }
 },
 "nbformat": 4,
 "nbformat_minor": 2
}
