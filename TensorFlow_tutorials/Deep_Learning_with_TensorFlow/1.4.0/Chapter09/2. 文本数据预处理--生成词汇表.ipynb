{
 "cells": [
  {
   "cell_type": "code",
   "execution_count": 6,
   "metadata": {},
   "outputs": [],
   "source": [
    "import codecs\n",
    "import collections\n",
    "from operator import itemgetter"
   ]
  },
  {
   "cell_type": "markdown",
   "metadata": {},
   "source": [
    "#### 1. 设置参数。"
   ]
  },
  {
   "cell_type": "code",
   "execution_count": 19,
   "metadata": {},
   "outputs": [],
   "source": [
    "MODE = \"PTB\"    # 将MODE设置为\"PTB\", \"TRANSLATE_EN\", \"TRANSLATE_ZH\"之一。\n",
    "\n",
    "if MODE == \"PTB\":             # PTB数据处理\n",
    "    RAW_DATA = \"../../datasets/PTB_data/ptb.train.txt\"  # 训练集数据文件\n",
    "    VOCAB_OUTPUT = \"ptb.vocab\"                         # 输出的词汇表文件\n",
    "elif MODE == \"TRANSLATE_ZH\":  # 翻译语料的中文部分\n",
    "    RAW_DATA = \"../../datasets/TED_data/train.txt.zh\"\n",
    "    VOCAB_OUTPUT = \"zh.vocab\"\n",
    "    VOCAB_SIZE = 4000\n",
    "elif MODE == \"TRANSLATE_EN\":  # 翻译语料的英文部分\n",
    "    RAW_DATA = \"../../datasets/TED_data/train.txt.en\"\n",
    "    VOCAB_OUTPUT = \"en.vocab\"\n",
    "    VOCAB_SIZE = 10000"
   ]
  },
  {
   "cell_type": "markdown",
   "metadata": {},
   "source": [
    "#### 2.对单词按词频排序。"
   ]
  },
  {
   "cell_type": "code",
   "execution_count": 20,
   "metadata": {},
   "outputs": [],
   "source": [
    "counter = collections.Counter()\n",
    "with codecs.open(RAW_DATA, \"r\", \"utf-8\") as f:\n",
    "    for line in f:\n",
    "        for word in line.strip().split():\n",
    "            counter[word] += 1\n",
    "\n",
    "# 按词频顺序对单词进行排序。\n",
    "sorted_word_to_cnt = sorted(\n",
    "    counter.items(), key=itemgetter(1), reverse=True)\n",
    "sorted_words = [x[0] for x in sorted_word_to_cnt]"
   ]
  },
  {
   "cell_type": "markdown",
   "metadata": {},
   "source": [
    "#### 3.插入特殊符号。"
   ]
  },
  {
   "cell_type": "code",
   "execution_count": 21,
   "metadata": {},
   "outputs": [],
   "source": [
    "if MODE == \"PTB\":\n",
    "    # 稍后我们需要在文本换行处加入句子结束符\"<eos>\"，这里预先将其加入词汇表。\n",
    "    sorted_words = [\"<eos>\"] + sorted_words\n",
    "elif MODE in [\"TRANSLATE_EN\", \"TRANSLATE_ZH\"]:\n",
    "    # 在9.3.2小节处理机器翻译数据时，除了\"<eos>\"以外，还需要将\"<unk>\"和句子起始符\n",
    "    # \"<sos>\"加入词汇表，并从词汇表中删除低频词汇。\n",
    "    sorted_words = [\"<unk>\", \"<sos>\", \"<eos>\"] + sorted_words\n",
    "    if len(sorted_words) > VOCAB_SIZE:\n",
    "        sorted_words = sorted_words[:VOCAB_SIZE]"
   ]
  },
  {
   "cell_type": "markdown",
   "metadata": {},
   "source": [
    "#### 4.保存词汇表文件。"
   ]
  },
  {
   "cell_type": "code",
   "execution_count": 22,
   "metadata": {},
   "outputs": [],
   "source": [
    "with codecs.open(VOCAB_OUTPUT, 'w', 'utf-8') as file_output:\n",
    "    for word in sorted_words:\n",
    "        file_output.write(word + \"\\n\")"
   ]
  },
  {
   "cell_type": "code",
   "execution_count": null,
   "metadata": {},
   "outputs": [],
   "source": []
  }
 ],
 "metadata": {
  "kernelspec": {
   "display_name": "Python 3",
   "language": "python",
   "name": "python3"
  },
  "language_info": {
   "codemirror_mode": {
    "name": "ipython",
    "version": 3
   },
   "file_extension": ".py",
   "mimetype": "text/x-python",
   "name": "python",
   "nbconvert_exporter": "python",
   "pygments_lexer": "ipython3",
   "version": "3.5.4"
  }
 },
 "nbformat": 4,
 "nbformat_minor": 2
}
