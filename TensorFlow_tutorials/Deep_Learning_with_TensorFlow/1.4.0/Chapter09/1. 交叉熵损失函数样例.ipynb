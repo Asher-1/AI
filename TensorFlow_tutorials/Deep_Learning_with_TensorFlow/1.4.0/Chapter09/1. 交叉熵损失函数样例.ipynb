{
 "cells": [
  {
   "cell_type": "code",
   "execution_count": 4,
   "metadata": {},
   "outputs": [],
   "source": [
    "import tensorflow as tf"
   ]
  },
  {
   "cell_type": "markdown",
   "metadata": {},
   "source": [
    "#### 1.  sparse_softmax_cross_entropy_with_logits样例。"
   ]
  },
  {
   "cell_type": "code",
   "execution_count": 7,
   "metadata": {},
   "outputs": [
    {
     "name": "stdout",
     "output_type": "stream",
     "text": [
      "[ 0.32656264  0.46436879]\n"
     ]
    }
   ],
   "source": [
    "# 假设词汇表的大小为3， 语料包含两个单词\"2 0\"\n",
    "word_labels = tf.constant([2, 0])\n",
    "\n",
    "# 假设模型对两个单词预测时，产生的logit分别是[2.0, -1.0, 3.0]和[1.0, 0.0, -0.5]\n",
    "predict_logits = tf.constant([[2.0, -1.0, 3.0], [1.0, 0.0, -0.5]])\n",
    "\n",
    "# 使用sparse_softmax_cross_entropy_with_logits计算交叉熵。\n",
    "loss = tf.nn.sparse_softmax_cross_entropy_with_logits(\n",
    "    labels=word_labels, logits=predict_logits)\n",
    "\n",
    "# 运行程序，计算loss的结果是[0.32656264, 0.46436879], 这对应两个预测的\n",
    "# perplexity损失。\n",
    "sess = tf.Session()\n",
    "print(sess.run(loss))\n"
   ]
  },
  {
   "cell_type": "markdown",
   "metadata": {},
   "source": [
    "#### 2.  softmax_cross_entropy_with_logits样例。"
   ]
  },
  {
   "cell_type": "code",
   "execution_count": 8,
   "metadata": {},
   "outputs": [
    {
     "name": "stdout",
     "output_type": "stream",
     "text": [
      "[ 0.32656264  0.46436879]\n",
      "[ 0.37656265  0.48936883]\n"
     ]
    }
   ],
   "source": [
    "# softmax_cross_entropy_with_logits与上面的函数相似，但是需要将预测目标以\n",
    "# 概率分布的形式给出。\n",
    "word_prob_distribution = tf.constant([[0.0, 0.0, 1.0], [1.0, 0.0, 0.0]])\n",
    "loss = tf.nn.softmax_cross_entropy_with_logits(\n",
    "    labels=word_prob_distribution, logits=predict_logits)\n",
    "# 运行结果与上面相同：[ 0.32656264,  0.46436879]\n",
    "print(sess.run(loss))\n",
    "\n",
    "# label smoothing：将正确数据的概率设为一个比1.0略小的值，将错误数据的概率\n",
    "# 设为比0.0略大的值，这样可以避免模型与数据过拟合，在某些时候可以提高训练效果。\n",
    "word_prob_smooth = tf.constant([[0.01, 0.01, 0.98], [0.98, 0.01, 0.01]])\n",
    "loss = tf.nn.softmax_cross_entropy_with_logits(\n",
    "    labels=word_prob_smooth, logits=predict_logits)\n",
    "# 运行结果：[ 0.37656265,  0.48936883]\n",
    "print(sess.run(loss))\n",
    "\n",
    "sess.close()\n"
   ]
  },
  {
   "cell_type": "code",
   "execution_count": null,
   "metadata": {},
   "outputs": [],
   "source": []
  },
  {
   "cell_type": "code",
   "execution_count": null,
   "metadata": {},
   "outputs": [],
   "source": []
  }
 ],
 "metadata": {
  "kernelspec": {
   "display_name": "Python 3",
   "language": "python",
   "name": "python3"
  },
  "language_info": {
   "codemirror_mode": {
    "name": "ipython",
    "version": 3
   },
   "file_extension": ".py",
   "mimetype": "text/x-python",
   "name": "python",
   "nbconvert_exporter": "python",
   "pygments_lexer": "ipython3",
   "version": "3.5.4"
  }
 },
 "nbformat": 4,
 "nbformat_minor": 1
}
