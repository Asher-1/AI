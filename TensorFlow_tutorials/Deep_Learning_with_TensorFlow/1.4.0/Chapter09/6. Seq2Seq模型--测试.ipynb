{
 "cells": [
  {
   "cell_type": "code",
   "execution_count": 1,
   "metadata": {},
   "outputs": [],
   "source": [
    "import tensorflow as tf\n",
    "import codecs\n",
    "import sys"
   ]
  },
  {
   "cell_type": "markdown",
   "metadata": {},
   "source": [
    "#### 1.参数设置。"
   ]
  },
  {
   "cell_type": "code",
   "execution_count": 2,
   "metadata": {},
   "outputs": [],
   "source": [
    "# 读取checkpoint的路径。9000表示是训练程序在第9000步保存的checkpoint。\n",
    "CHECKPOINT_PATH = \"./seq2seq_ckpt-9000\"\n",
    "\n",
    "# 模型参数。必须与训练时的模型参数保持一致。\n",
    "HIDDEN_SIZE = 1024                         \t# LSTM的隐藏层规模。\n",
    "NUM_LAYERS = 2                             \t# 深层循环神经网络中LSTM结构的层数。\n",
    "SRC_VOCAB_SIZE = 10000                   \t# 源语言词汇表大小。\n",
    "TRG_VOCAB_SIZE = 4000                    \t# 目标语言词汇表大小。\n",
    "SHARE_EMB_AND_SOFTMAX = True            \t# 在Softmax层和词向量层之间共享参数。\n",
    "\n",
    "# 词汇表文件\n",
    "SRC_VOCAB = \"./en.vocab\"\n",
    "TRG_VOCAB = \"./zh.vocab\"\n",
    "\n",
    "# 词汇表中<sos>和<eos>的ID。在解码过程中需要用<sos>作为第一步的输入，并将检查\n",
    "# 是否是<eos>，因此需要知道这两个符号的ID。\n",
    "SOS_ID = 1\n",
    "EOS_ID = 2"
   ]
  },
  {
   "cell_type": "markdown",
   "metadata": {},
   "source": [
    "#### 2.定义NMT模型和解码步骤。"
   ]
  },
  {
   "cell_type": "code",
   "execution_count": 3,
   "metadata": {},
   "outputs": [],
   "source": [
    "# 定义NMTModel类来描述模型。\n",
    "class NMTModel(object):\n",
    "    # 在模型的初始化函数中定义模型要用到的变量。\n",
    "    def __init__(self):\n",
    "        # 定义编码器和解码器所使用的LSTM结构。\n",
    "        self.enc_cell = tf.nn.rnn_cell.MultiRNNCell(\n",
    "          [tf.nn.rnn_cell.BasicLSTMCell(HIDDEN_SIZE)\n",
    "           for _ in range(NUM_LAYERS)])\n",
    "        self.dec_cell = tf.nn.rnn_cell.MultiRNNCell(\n",
    "          [tf.nn.rnn_cell.BasicLSTMCell(HIDDEN_SIZE) \n",
    "           for _ in range(NUM_LAYERS)])\n",
    "\n",
    "        # 为源语言和目标语言分别定义词向量。   \n",
    "        self.src_embedding = tf.get_variable(\n",
    "            \"src_emb\", [SRC_VOCAB_SIZE, HIDDEN_SIZE])\n",
    "        self.trg_embedding = tf.get_variable(\n",
    "            \"trg_emb\", [TRG_VOCAB_SIZE, HIDDEN_SIZE])\n",
    "\n",
    "        # 定义softmax层的变量\n",
    "        if SHARE_EMB_AND_SOFTMAX:\n",
    "            self.softmax_weight = tf.transpose(self.trg_embedding)\n",
    "        else:\n",
    "            self.softmax_weight = tf.get_variable(\n",
    "               \"weight\", [HIDDEN_SIZE, TRG_VOCAB_SIZE])\n",
    "        self.softmax_bias = tf.get_variable(\n",
    "            \"softmax_bias\", [TRG_VOCAB_SIZE])\n",
    "\n",
    "    def inference(self, src_input):\n",
    "        # 虽然输入只有一个句子，但因为dynamic_rnn要求输入是batch的形式，因此这里\n",
    "        # 将输入句子整理为大小为1的batch。\n",
    "        src_size = tf.convert_to_tensor([len(src_input)], dtype=tf.int32)\n",
    "        src_input = tf.convert_to_tensor([src_input], dtype=tf.int32)\n",
    "        src_emb = tf.nn.embedding_lookup(self.src_embedding, src_input)\n",
    "\n",
    "        # 使用dynamic_rnn构造编码器。这一步与训练时相同。\n",
    "        with tf.variable_scope(\"encoder\"):\n",
    "            enc_outputs, enc_state = tf.nn.dynamic_rnn(\n",
    "                self.enc_cell, src_emb, src_size, dtype=tf.float32)\n",
    "   \n",
    "        # 设置解码的最大步数。这是为了避免在极端情况出现无限循环的问题。\n",
    "        MAX_DEC_LEN=100\n",
    "\n",
    "        with tf.variable_scope(\"decoder/rnn/multi_rnn_cell\"):\n",
    "            # 使用一个变长的TensorArray来存储生成的句子。\n",
    "            init_array = tf.TensorArray(dtype=tf.int32, size=0,\n",
    "                dynamic_size=True, clear_after_read=False)\n",
    "            # 填入第一个单词<sos>作为解码器的输入。\n",
    "            init_array = init_array.write(0, SOS_ID)\n",
    "            # 构建初始的循环状态。循环状态包含循环神经网络的隐藏状态，保存生成句子的\n",
    "            # TensorArray，以及记录解码步数的一个整数step。\n",
    "            init_loop_var = (enc_state, init_array, 0)\n",
    "\n",
    "            # tf.while_loop的循环条件：\n",
    "            # 循环直到解码器输出<eos>，或者达到最大步数为止。\n",
    "            def continue_loop_condition(state, trg_ids, step):\n",
    "                return tf.reduce_all(tf.logical_and(\n",
    "                    tf.not_equal(trg_ids.read(step), EOS_ID),\n",
    "                    tf.less(step, MAX_DEC_LEN-1)))\n",
    "\n",
    "            def loop_body(state, trg_ids, step):\n",
    "                # 读取最后一步输出的单词，并读取其词向量。\n",
    "                trg_input = [trg_ids.read(step)]\n",
    "                trg_emb = tf.nn.embedding_lookup(self.trg_embedding,\n",
    "                                                 trg_input)\n",
    "                # 这里不使用dynamic_rnn，而是直接调用dec_cell向前计算一步。\n",
    "                dec_outputs, next_state = self.dec_cell.call(\n",
    "                    state=state, inputs=trg_emb)\n",
    "                # 计算每个可能的输出单词对应的logit，并选取logit值最大的单词作为\n",
    "                # 这一步的而输出。\n",
    "                output = tf.reshape(dec_outputs, [-1, HIDDEN_SIZE])\n",
    "                logits = (tf.matmul(output, self.softmax_weight)\n",
    "                          + self.softmax_bias)\n",
    "                next_id = tf.argmax(logits, axis=1, output_type=tf.int32)\n",
    "                # 将这一步输出的单词写入循环状态的trg_ids中。\n",
    "                trg_ids = trg_ids.write(step+1, next_id[0])\n",
    "                return next_state, trg_ids, step+1\n",
    "\n",
    "            # 执行tf.while_loop，返回最终状态。\n",
    "            state, trg_ids, step = tf.while_loop(\n",
    "                continue_loop_condition, loop_body, init_loop_var)\n",
    "            return trg_ids.stack()"
   ]
  },
  {
   "cell_type": "markdown",
   "metadata": {},
   "source": [
    "#### 3.翻译一个测试句子。"
   ]
  },
  {
   "cell_type": "code",
   "execution_count": 4,
   "metadata": {},
   "outputs": [
    {
     "name": "stdout",
     "output_type": "stream",
     "text": [
      "This is a test . <eos>\n",
      "[90, 13, 9, 689, 4, 2]\n",
      "INFO:tensorflow:Restoring parameters from ./seq2seq_ckpt-9000\n",
      "[  1  10   7   9  12 411 271   6   2]\n",
      "<sos> 这 是 一 个 测 试 。 <eos>\n"
     ]
    }
   ],
   "source": [
    "def main():\n",
    "    # 定义训练用的循环神经网络模型。\n",
    "    with tf.variable_scope(\"nmt_model\", reuse=None):\n",
    "        model = NMTModel()\n",
    "\n",
    "    # 定义个测试句子。\n",
    "    test_en_text = \"This is a test . <eos>\"\n",
    "    print(test_en_text)\n",
    "    \n",
    "    # 根据英文词汇表，将测试句子转为单词ID。\n",
    "    with codecs.open(SRC_VOCAB, \"r\", \"utf-8\") as f_vocab:\n",
    "        src_vocab = [w.strip() for w in f_vocab.readlines()]\n",
    "        src_id_dict = dict((src_vocab[x], x) for x in range(len(src_vocab)))\n",
    "    test_en_ids = [(src_id_dict[token] if token in src_id_dict else src_id_dict['<unk>'])\n",
    "                   for token in test_en_text.split()]\n",
    "    print(test_en_ids)\n",
    "\n",
    "    # 建立解码所需的计算图。\n",
    "    output_op = model.inference(test_en_ids)\n",
    "    sess = tf.Session()\n",
    "    saver = tf.train.Saver()\n",
    "    saver.restore(sess, CHECKPOINT_PATH)\n",
    "\n",
    "    # 读取翻译结果。\n",
    "    output_ids = sess.run(output_op)\n",
    "    print(output_ids)\n",
    "    \n",
    "    # 根据中文词汇表，将翻译结果转换为中文文字。\n",
    "    with codecs.open(TRG_VOCAB, \"r\", \"utf-8\") as f_vocab:\n",
    "        trg_vocab = [w.strip() for w in f_vocab.readlines()]\n",
    "    output_text = ''.join([trg_vocab[x] for x in output_ids])\n",
    "    \n",
    "    # 输出翻译结果。\n",
    "    print(output_text.encode('utf8').decode(sys.stdout.encoding))\n",
    "    sess.close()\n",
    "\n",
    "if __name__ == \"__main__\":\n",
    "    main()\n"
   ]
  },
  {
   "cell_type": "code",
   "execution_count": null,
   "metadata": {},
   "outputs": [],
   "source": []
  }
 ],
 "metadata": {
  "kernelspec": {
   "display_name": "Python 3",
   "language": "python",
   "name": "python3"
  },
  "language_info": {
   "codemirror_mode": {
    "name": "ipython",
    "version": 3
   },
   "file_extension": ".py",
   "mimetype": "text/x-python",
   "name": "python",
   "nbconvert_exporter": "python",
   "pygments_lexer": "ipython3",
   "version": "3.5.4"
  }
 },
 "nbformat": 4,
 "nbformat_minor": 2
}
