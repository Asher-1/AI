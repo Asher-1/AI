{
 "cells": [
  {
   "cell_type": "markdown",
   "metadata": {},
   "source": [
    "### 1. 定义训练过程中将要使用到的常量。\n",
    "**因为GitHub无法保存大于100M的文件，所以在运行时需要先自行从Google下载inception_v3.ckpt文件。**"
   ]
  },
  {
   "cell_type": "code",
   "execution_count": 1,
   "metadata": {
    "collapsed": true
   },
   "outputs": [],
   "source": [
    "import glob\n",
    "import os.path\n",
    "import numpy as np\n",
    "import tensorflow as tf\n",
    "from tensorflow.python.platform import gfile\n",
    "import tensorflow.contrib.slim as slim\n",
    "\n",
    "# 加载通过TensorFlow-Slim定义好的inception_v3模型。\n",
    "import tensorflow.contrib.slim.python.slim.nets.inception_v3 as inception_v3\n",
    "\n",
    "# 处理好之后的数据文件。\n",
    "INPUT_DATA = '../../datasets/flower_processed_data.npy'\n",
    "# 保存训练好的模型的路径。\n",
    "TRAIN_FILE = 'train_dir/model'\n",
    "# 谷歌提供的训练好的模型文件地址。因为GitHub无法保存大于100M的文件，所以\n",
    "# 在运行时需要先自行从Google下载inception_v3.ckpt文件。\n",
    "CKPT_FILE = '../../datasets/inception_v3.ckpt'\n",
    "\n",
    "# 定义训练中使用的参数。\n",
    "LEARNING_RATE = 0.0001\n",
    "STEPS = 300\n",
    "BATCH = 32\n",
    "N_CLASSES = 5\n",
    "\n",
    "# 不需要从谷歌训练好的模型中加载的参数。\n",
    "CHECKPOINT_EXCLUDE_SCOPES = 'InceptionV3/Logits,InceptionV3/AuxLogits'\n",
    "# 需要训练的网络层参数明层，在fine-tuning的过程中就是最后的全联接层。\n",
    "TRAINABLE_SCOPES='InceptionV3/Logits,InceptionV3/AuxLogit'"
   ]
  },
  {
   "cell_type": "markdown",
   "metadata": {},
   "source": [
    "### 2. 获取所有需要从谷歌训练好的模型中加载的参数。"
   ]
  },
  {
   "cell_type": "code",
   "execution_count": 2,
   "metadata": {
    "collapsed": true
   },
   "outputs": [],
   "source": [
    "def get_tuned_variables():\n",
    "    exclusions = [scope.strip() for scope in CHECKPOINT_EXCLUDE_SCOPES.split(',')]\n",
    "\n",
    "    variables_to_restore = []\n",
    "    # 枚举inception-v3模型中所有的参数，然后判断是否需要从加载列表中移除。\n",
    "    for var in slim.get_model_variables():\n",
    "        excluded = False\n",
    "        for exclusion in exclusions:\n",
    "            if var.op.name.startswith(exclusion):\n",
    "                excluded = True\n",
    "                break\n",
    "        if not excluded:\n",
    "            variables_to_restore.append(var)\n",
    "    return variables_to_restore"
   ]
  },
  {
   "cell_type": "markdown",
   "metadata": {},
   "source": [
    "### 3. 获取所有需要训练的变量列表。"
   ]
  },
  {
   "cell_type": "code",
   "execution_count": 3,
   "metadata": {
    "collapsed": true
   },
   "outputs": [],
   "source": [
    "def get_trainable_variables():    \n",
    "    scopes = [scope.strip() for scope in TRAINABLE_SCOPES.split(',')]\n",
    "    variables_to_train = []\n",
    "    \n",
    "    # 枚举所有需要训练的参数前缀，并通过这些前缀找到所有需要训练的参数。\n",
    "    for scope in scopes:\n",
    "        variables = tf.get_collection(tf.GraphKeys.TRAINABLE_VARIABLES, scope)\n",
    "        variables_to_train.extend(variables)\n",
    "    return variables_to_train"
   ]
  },
  {
   "cell_type": "markdown",
   "metadata": {},
   "source": [
    "### 4. 定义训练过程。"
   ]
  },
  {
   "cell_type": "code",
   "execution_count": 4,
   "metadata": {
    "collapsed": true
   },
   "outputs": [],
   "source": [
    "def main():\n",
    "    # 加载预处理好的数据。\n",
    "    processed_data = np.load(INPUT_DATA)\n",
    "    training_images = processed_data[0]\n",
    "    n_training_example = len(training_images)\n",
    "    training_labels = processed_data[1]\n",
    "    \n",
    "    validation_images = processed_data[2]\n",
    "    validation_labels = processed_data[3]\n",
    "    \n",
    "    testing_images = processed_data[4]\n",
    "    testing_labels = processed_data[5]\n",
    "    print(\"%d training examples, %d validation examples and %d testing examples.\" % (\n",
    "        n_training_example, len(validation_labels), len(testing_labels)))\n",
    "\n",
    "    # 定义inception-v3的输入，images为输入图片，labels为每一张图片对应的标签。\n",
    "    images = tf.placeholder(tf.float32, [None, 299, 299, 3], name='input_images')\n",
    "    labels = tf.placeholder(tf.int64, [None], name='labels')\n",
    "    \n",
    "    # 定义inception-v3模型。因为谷歌给出的只有模型参数取值，所以这里\n",
    "    # 需要在这个代码中定义inception-v3的模型结构。虽然理论上需要区分训练和\n",
    "    # 测试中使用到的模型，也就是说在测试时应该使用is_training=False，但是\n",
    "    # 因为预先训练好的inception-v3模型中使用的batch normalization参数与\n",
    "    # 新的数据会有出入，所以这里直接使用同一个模型来做测试。\n",
    "    with slim.arg_scope(inception_v3.inception_v3_arg_scope()):\n",
    "        logits, _ = inception_v3.inception_v3(\n",
    "            images, num_classes=N_CLASSES, is_training=True)\n",
    "    \n",
    "    trainable_variables = get_trainable_variables()\n",
    "    # 定义损失函数和训练过程。\n",
    "    tf.losses.softmax_cross_entropy(\n",
    "        tf.one_hot(labels, N_CLASSES), logits, weights=1.0)\n",
    "    total_loss = tf.losses.get_total_loss()\n",
    "    train_step = tf.train.RMSPropOptimizer(LEARNING_RATE).minimize(total_loss)\n",
    "    \n",
    "    # 计算正确率。\n",
    "    with tf.name_scope('evaluation'):\n",
    "        correct_prediction = tf.equal(tf.argmax(logits, 1), labels)\n",
    "        evaluation_step = tf.reduce_mean(tf.cast(correct_prediction, tf.float32))\n",
    "                \n",
    "    # 定义加载Google训练好的Inception-v3模型的Saver。\n",
    "    load_fn = slim.assign_from_checkpoint_fn(\n",
    "      CKPT_FILE,\n",
    "      get_tuned_variables(),\n",
    "      ignore_missing_vars=True)\n",
    "    \n",
    "    # 定义保存新模型的Saver。\n",
    "    saver = tf.train.Saver()\n",
    "    \n",
    "    with tf.Session() as sess:\n",
    "        # 初始化没有加载进来的变量。\n",
    "        init = tf.global_variables_initializer()\n",
    "        sess.run(init)\n",
    "        \n",
    "        # 加载谷歌已经训练好的模型。\n",
    "        print('Loading tuned variables from %s' % CKPT_FILE)\n",
    "        load_fn(sess)\n",
    "            \n",
    "        start = 0\n",
    "        end = BATCH\n",
    "        for i in range(STEPS):            \n",
    "            _, loss = sess.run([train_step, total_loss], feed_dict={\n",
    "                images: training_images[start:end], \n",
    "                labels: training_labels[start:end]})\n",
    "\n",
    "            if i % 30 == 0 or i + 1 == STEPS:\n",
    "                saver.save(sess, TRAIN_FILE, global_step=i)\n",
    "                \n",
    "                validation_accuracy = sess.run(evaluation_step, feed_dict={\n",
    "                    images: validation_images, labels: validation_labels})\n",
    "                print('Step %d: Training loss is %.1f Validation accuracy = %.1f%%' % (\n",
    "                    i, loss, validation_accuracy * 100.0))\n",
    "                            \n",
    "            start = end\n",
    "            if start == n_training_example:\n",
    "                start = 0\n",
    "            \n",
    "            end = start + BATCH\n",
    "            if end > n_training_example: \n",
    "                end = n_training_example\n",
    "            \n",
    "        # 在最后的测试数据上测试正确率。\n",
    "        test_accuracy = sess.run(evaluation_step, feed_dict={\n",
    "            images: testing_images, labels: testing_labels})\n",
    "        print('Final test accuracy = %.1f%%' % (test_accuracy * 100))"
   ]
  },
  {
   "cell_type": "markdown",
   "metadata": {},
   "source": [
    "### 5. 运行训练过程。"
   ]
  },
  {
   "cell_type": "code",
   "execution_count": 5,
   "metadata": {},
   "outputs": [
    {
     "name": "stdout",
     "output_type": "stream",
     "text": [
      "2884 training examples, 405 validation examples and 381 testing examples.\n",
      "Loading tuned variables from ../../datasets/inception_v3.ckpt\n",
      "INFO:tensorflow:Restoring parameters from ../../datasets/inception_v3.ckpt\n",
      "Step 0: Training loss is 3.1 Validation accuracy = 15.1%\n",
      "Step 30: Training loss is 2.0 Validation accuracy = 24.7%\n",
      "Step 60: Training loss is 1.1 Validation accuracy = 62.2%\n",
      "Step 90: Training loss is 1.1 Validation accuracy = 83.0%\n",
      "Step 120: Training loss is 0.7 Validation accuracy = 90.6%\n",
      "Step 150: Training loss is 0.9 Validation accuracy = 93.1%\n",
      "Step 180: Training loss is 0.4 Validation accuracy = 90.6%\n",
      "Step 210: Training loss is 0.3 Validation accuracy = 93.3%\n",
      "Step 240: Training loss is 0.3 Validation accuracy = 93.3%\n",
      "Step 270: Training loss is 0.3 Validation accuracy = 93.8%\n",
      "Step 299: Training loss is 0.3 Validation accuracy = 92.6%\n",
      "Final test accuracy = 92.7%\n"
     ]
    }
   ],
   "source": [
    "if __name__ == '__main__':\n",
    "    main()"
   ]
  }
 ],
 "metadata": {
  "kernelspec": {
   "display_name": "Python 2",
   "language": "python",
   "name": "python2"
  },
  "language_info": {
   "codemirror_mode": {
    "name": "ipython",
    "version": 2
   },
   "file_extension": ".py",
   "mimetype": "text/x-python",
   "name": "python",
   "nbconvert_exporter": "python",
   "pygments_lexer": "ipython2",
   "version": "2.7.13"
  }
 },
 "nbformat": 4,
 "nbformat_minor": 2
}
