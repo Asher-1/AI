{
 "cells": [
  {
   "cell_type": "code",
   "execution_count": 1,
   "metadata": {
    "collapsed": true
   },
   "outputs": [],
   "source": [
    "import tensorflow as tf\n",
    "from tensorflow.examples.tutorials.mnist import input_data\n",
    "import numpy as np"
   ]
  },
  {
   "cell_type": "markdown",
   "metadata": {},
   "source": [
    "#### 1. 将输入转化成TFRecord格式并保存。"
   ]
  },
  {
   "cell_type": "code",
   "execution_count": 2,
   "metadata": {},
   "outputs": [
    {
     "name": "stdout",
     "output_type": "stream",
     "text": [
      "Extracting ../../datasets/MNIST_data/train-images-idx3-ubyte.gz\n",
      "Extracting ../../datasets/MNIST_data/train-labels-idx1-ubyte.gz\n",
      "Extracting ../../datasets/MNIST_data/t10k-images-idx3-ubyte.gz\n",
      "Extracting ../../datasets/MNIST_data/t10k-labels-idx1-ubyte.gz\n",
      "TFRecord训练文件已保存。\n",
      "TFRecord测试文件已保存。\n"
     ]
    }
   ],
   "source": [
    "# 定义函数转化变量类型。\n",
    "def _int64_feature(value):\n",
    "    return tf.train.Feature(int64_list=tf.train.Int64List(value=[value]))\n",
    "\n",
    "def _bytes_feature(value):\n",
    "    return tf.train.Feature(bytes_list=tf.train.BytesList(value=[value]))\n",
    "\n",
    "# 将数据转化为tf.train.Example格式。\n",
    "def _make_example(pixels, label, image):\n",
    "    image_raw = image.tostring()\n",
    "    example = tf.train.Example(features=tf.train.Features(feature={\n",
    "        'pixels': _int64_feature(pixels),\n",
    "        'label': _int64_feature(np.argmax(label)),\n",
    "        'image_raw': _bytes_feature(image_raw)\n",
    "    }))\n",
    "    return example\n",
    "\n",
    "# 读取mnist训练数据。\n",
    "mnist = input_data.read_data_sets(\"../../datasets/MNIST_data\",dtype=tf.uint8, one_hot=True)\n",
    "images = mnist.train.images\n",
    "labels = mnist.train.labels\n",
    "pixels = images.shape[1]\n",
    "num_examples = mnist.train.num_examples\n",
    "\n",
    "# 输出包含训练数据的TFRecord文件。\n",
    "with tf.python_io.TFRecordWriter(\"output.tfrecords\") as writer:\n",
    "    for index in range(num_examples):\n",
    "        example = _make_example(pixels, labels[index], images[index])\n",
    "        writer.write(example.SerializeToString())\n",
    "print(\"TFRecord训练文件已保存。\")\n",
    "\n",
    "# 读取mnist测试数据。\n",
    "images_test = mnist.test.images\n",
    "labels_test = mnist.test.labels\n",
    "pixels_test = images_test.shape[1]\n",
    "num_examples_test = mnist.test.num_examples\n",
    "\n",
    "# 输出包含测试数据的TFRecord文件。\n",
    "with tf.python_io.TFRecordWriter(\"output_test.tfrecords\") as writer:\n",
    "    for index in range(num_examples_test):\n",
    "        example = _make_example(\n",
    "            pixels_test, labels_test[index], images_test[index])\n",
    "        writer.write(example.SerializeToString())\n",
    "print(\"TFRecord测试文件已保存。\")"
   ]
  },
  {
   "cell_type": "markdown",
   "metadata": {},
   "source": [
    "#### 2. 读取TFRecord文件"
   ]
  },
  {
   "cell_type": "code",
   "execution_count": 3,
   "metadata": {
    "collapsed": true
   },
   "outputs": [],
   "source": [
    "# 读取文件。\n",
    "reader = tf.TFRecordReader()\n",
    "filename_queue = tf.train.string_input_producer([\"output.tfrecords\"])\n",
    "_,serialized_example = reader.read(filename_queue)\n",
    "\n",
    "# 解析读取的样例。\n",
    "features = tf.parse_single_example(\n",
    "    serialized_example,\n",
    "    features={\n",
    "        'image_raw':tf.FixedLenFeature([],tf.string),\n",
    "        'pixels':tf.FixedLenFeature([],tf.int64),\n",
    "        'label':tf.FixedLenFeature([],tf.int64)\n",
    "    })\n",
    "\n",
    "images = tf.decode_raw(features['image_raw'],tf.uint8)\n",
    "labels = tf.cast(features['label'],tf.int32)\n",
    "pixels = tf.cast(features['pixels'],tf.int32)\n",
    "\n",
    "sess = tf.Session()\n",
    "\n",
    "# 启动多线程处理输入数据。\n",
    "coord = tf.train.Coordinator()\n",
    "threads = tf.train.start_queue_runners(sess=sess,coord=coord)\n",
    "\n",
    "for i in range(10):\n",
    "    image, label, pixel = sess.run([images, labels, pixels])"
   ]
  }
 ],
 "metadata": {
  "kernelspec": {
   "display_name": "Python 2",
   "language": "python",
   "name": "python2"
  },
  "language_info": {
   "codemirror_mode": {
    "name": "ipython",
    "version": 2
   },
   "file_extension": ".py",
   "mimetype": "text/x-python",
   "name": "python",
   "nbconvert_exporter": "python",
   "pygments_lexer": "ipython2",
   "version": "2.7.13"
  }
 },
 "nbformat": 4,
 "nbformat_minor": 1
}
