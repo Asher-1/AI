{
 "cells": [
  {
   "cell_type": "code",
   "execution_count": 1,
   "metadata": {
    "collapsed": true
   },
   "outputs": [],
   "source": [
    "import tempfile\n",
    "import tensorflow as tf"
   ]
  },
  {
   "cell_type": "markdown",
   "metadata": {},
   "source": [
    "#### 1. 列举输入文件。"
   ]
  },
  {
   "cell_type": "code",
   "execution_count": 2,
   "metadata": {
    "collapsed": true
   },
   "outputs": [],
   "source": [
    "# 输入数据使用本章第一节（1. TFRecord样例程序.ipynb）生成的训练和测试数据。\n",
    "train_files = tf.train.match_filenames_once(\"output.tfrecords\")\n",
    "test_files = tf.train.match_filenames_once(\"output_test.tfrecords\")"
   ]
  },
  {
   "cell_type": "markdown",
   "metadata": {},
   "source": [
    "#### 2. 定义解析TFRecord文件的parser方法。"
   ]
  },
  {
   "cell_type": "code",
   "execution_count": 3,
   "metadata": {
    "collapsed": true
   },
   "outputs": [],
   "source": [
    "# 解析一个TFRecord的方法。\n",
    "def parser(record):\n",
    "    features = tf.parse_single_example(\n",
    "        record,\n",
    "        features={\n",
    "            'image_raw':tf.FixedLenFeature([],tf.string),\n",
    "            'pixels':tf.FixedLenFeature([],tf.int64),\n",
    "            'label':tf.FixedLenFeature([],tf.int64)\n",
    "        })\n",
    "    decoded_images = tf.decode_raw(features['image_raw'],tf.uint8)\n",
    "    retyped_images = tf.cast(decoded_images, tf.float32)\n",
    "    images = tf.reshape(retyped_images, [784])\n",
    "    labels = tf.cast(features['label'],tf.int32)\n",
    "    #pixels = tf.cast(features['pixels'],tf.int32)\n",
    "    return images, labels"
   ]
  },
  {
   "cell_type": "markdown",
   "metadata": {},
   "source": [
    "#### 3. 定义训练数据集。"
   ]
  },
  {
   "cell_type": "code",
   "execution_count": 4,
   "metadata": {
    "collapsed": true
   },
   "outputs": [],
   "source": [
    "image_size = 299          # 定义神经网络输入层图片的大小。\n",
    "batch_size = 100          # 定义组合数据batch的大小。\n",
    "shuffle_buffer = 10000   # 定义随机打乱数据时buffer的大小。\n",
    "\n",
    "# 定义读取训练数据的数据集。\n",
    "dataset = tf.data.TFRecordDataset(train_files)\n",
    "dataset = dataset.map(parser)\n",
    "\n",
    "# 对数据进行shuffle和batching操作。这里省略了对图像做随机调整的预处理步骤。\n",
    "dataset = dataset.shuffle(shuffle_buffer).batch(batch_size)\n",
    "\n",
    "# 重复NUM_EPOCHS个epoch。\n",
    "NUM_EPOCHS = 10\n",
    "dataset = dataset.repeat(NUM_EPOCHS)\n",
    "\n",
    "# 定义数据集迭代器。\n",
    "iterator = dataset.make_initializable_iterator()\n",
    "image_batch, label_batch = iterator.get_next()"
   ]
  },
  {
   "cell_type": "markdown",
   "metadata": {},
   "source": [
    "#### 4. 定义神经网络结构和优化过程。"
   ]
  },
  {
   "cell_type": "code",
   "execution_count": 5,
   "metadata": {
    "collapsed": true
   },
   "outputs": [],
   "source": [
    "# 定义神经网络的结构以及优化过程。这里与7.3.4小节相同。\n",
    "def inference(input_tensor, weights1, biases1, weights2, biases2):\n",
    "    layer1 = tf.nn.relu(tf.matmul(input_tensor, weights1) + biases1)\n",
    "    return tf.matmul(layer1, weights2) + biases2\n",
    "\n",
    "INPUT_NODE = 784\n",
    "OUTPUT_NODE = 10\n",
    "LAYER1_NODE = 500\n",
    "REGULARAZTION_RATE = 0.0001   \n",
    "TRAINING_STEPS = 5000        \n",
    "\n",
    "weights1 = tf.Variable(tf.truncated_normal([INPUT_NODE, LAYER1_NODE], stddev=0.1))\n",
    "biases1 = tf.Variable(tf.constant(0.1, shape=[LAYER1_NODE]))\n",
    "\n",
    "weights2 = tf.Variable(tf.truncated_normal([LAYER1_NODE, OUTPUT_NODE], stddev=0.1))\n",
    "biases2 = tf.Variable(tf.constant(0.1, shape=[OUTPUT_NODE]))\n",
    "\n",
    "y = inference(image_batch, weights1, biases1, weights2, biases2)\n",
    "    \n",
    "# 计算交叉熵及其平均值\n",
    "cross_entropy = tf.nn.sparse_softmax_cross_entropy_with_logits(logits=y, labels=label_batch)\n",
    "cross_entropy_mean = tf.reduce_mean(cross_entropy)\n",
    "    \n",
    "# 损失函数的计算\n",
    "regularizer = tf.contrib.layers.l2_regularizer(REGULARAZTION_RATE)\n",
    "regularaztion = regularizer(weights1) + regularizer(weights2)\n",
    "loss = cross_entropy_mean + regularaztion\n",
    "\n",
    "# 优化损失函数\n",
    "train_step = tf.train.GradientDescentOptimizer(0.01).minimize(loss)\n"
   ]
  },
  {
   "cell_type": "markdown",
   "metadata": {},
   "source": [
    "#### 4. 定义测试用数据集。"
   ]
  },
  {
   "cell_type": "code",
   "execution_count": 6,
   "metadata": {},
   "outputs": [
    {
     "name": "stdout",
     "output_type": "stream",
     "text": [
      "('Test accuracy is:', 0.869)\n"
     ]
    }
   ],
   "source": [
    "# 定义测试用的Dataset。\n",
    "test_dataset = tf.data.TFRecordDataset(test_files)\n",
    "test_dataset = test_dataset.map(parser)\n",
    "test_dataset = test_dataset.batch(batch_size)\n",
    "\n",
    "# 定义测试数据上的迭代器。\n",
    "test_iterator = test_dataset.make_initializable_iterator()\n",
    "test_image_batch, test_label_batch = test_iterator.get_next()\n",
    "\n",
    "# 定义测试数据上的预测结果。\n",
    "test_logit = inference(test_image_batch, weights1, biases1, weights2, biases2)\n",
    "predictions = tf.argmax(test_logit, axis=-1, output_type=tf.int32)\n",
    " \n",
    "# 声明会话并运行神经网络的优化过程。\n",
    "with tf.Session() as sess:  \n",
    "    # 初始化变量。\n",
    "    sess.run((tf.global_variables_initializer(),\n",
    "              tf.local_variables_initializer()))\n",
    "    \n",
    "    # 初始化训练数据的迭代器。\n",
    "    sess.run(iterator.initializer)\n",
    "    \n",
    "    # 循环进行训练，直到数据集完成输入、抛出OutOfRangeError错误。\n",
    "    while True:\n",
    "        try:\n",
    "            sess.run(train_step)\n",
    "        except tf.errors.OutOfRangeError:\n",
    "            break\n",
    "\n",
    "    test_results = []\n",
    "    test_labels = []\n",
    "    # 初始化测试数据的迭代器。\n",
    "    sess.run(test_iterator.initializer)\n",
    "    # 获取预测结果。\n",
    "    while True:\n",
    "        try:\n",
    "            pred, label = sess.run([predictions, test_label_batch])\n",
    "            test_results.extend(pred)\n",
    "            test_labels.extend(label)\n",
    "        except tf.errors.OutOfRangeError:\n",
    "            break\n",
    "\n",
    "# 计算准确率\n",
    "correct = [float(y == y_) for (y, y_) in zip (test_results, test_labels)]\n",
    "accuracy = sum(correct) / len(correct)\n",
    "print(\"Test accuracy is:\", accuracy) "
   ]
  },
  {
   "cell_type": "code",
   "execution_count": null,
   "metadata": {
    "collapsed": true
   },
   "outputs": [],
   "source": []
  }
 ],
 "metadata": {
  "kernelspec": {
   "display_name": "Python 2",
   "language": "python",
   "name": "python2"
  },
  "language_info": {
   "codemirror_mode": {
    "name": "ipython",
    "version": 2
   },
   "file_extension": ".py",
   "mimetype": "text/x-python",
   "name": "python",
   "nbconvert_exporter": "python",
   "pygments_lexer": "ipython2",
   "version": "2.7.13"
  }
 },
 "nbformat": 4,
 "nbformat_minor": 1
}
