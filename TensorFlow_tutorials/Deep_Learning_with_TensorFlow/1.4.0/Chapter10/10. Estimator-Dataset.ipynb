{
 "cells": [
  {
   "cell_type": "markdown",
   "metadata": {},
   "source": [
    "### 1. 训练自定义模型。"
   ]
  },
  {
   "cell_type": "code",
   "execution_count": 1,
   "metadata": {},
   "outputs": [
    {
     "name": "stdout",
     "output_type": "stream",
     "text": [
      "INFO:tensorflow:Using default config.\n",
      "WARNING:tensorflow:Using temporary folder as model directory: /var/folders/v9/vrbrlhtd1dz8tdzl3s3d4d3c0000gn/T/tmprdgCDe\n",
      "INFO:tensorflow:Using config: {'_save_checkpoints_secs': 600, '_session_config': None, '_keep_checkpoint_max': 5, '_task_type': 'worker', '_is_chief': True, '_cluster_spec': <tensorflow.python.training.server_lib.ClusterSpec object at 0x10f8c3790>, '_save_checkpoints_steps': None, '_keep_checkpoint_every_n_hours': 10000, '_service': None, '_num_ps_replicas': 0, '_tf_random_seed': None, '_master': '', '_num_worker_replicas': 1, '_task_id': 0, '_log_step_count_steps': 100, '_model_dir': '/var/folders/v9/vrbrlhtd1dz8tdzl3s3d4d3c0000gn/T/tmprdgCDe', '_save_summary_steps': 100}\n",
      "WARNING:tensorflow:From <ipython-input-1-a36b446e3e29>:10: __init__ (from tensorflow.contrib.data.python.ops.readers) is deprecated and will be removed in a future version.\n",
      "Instructions for updating:\n",
      "Use `tf.data.TextLineDataset`.\n",
      "INFO:tensorflow:Create CheckpointSaverHook.\n",
      "INFO:tensorflow:Saving checkpoints for 1 into /var/folders/v9/vrbrlhtd1dz8tdzl3s3d4d3c0000gn/T/tmprdgCDe/model.ckpt.\n",
      "INFO:tensorflow:loss = 75.3063, step = 1\n",
      "INFO:tensorflow:global_step/sec: 218.024\n",
      "INFO:tensorflow:loss = 7.00259, step = 101 (0.455 sec)\n",
      "INFO:tensorflow:global_step/sec: 272.414\n",
      "INFO:tensorflow:loss = 3.38633, step = 201 (0.367 sec)\n",
      "INFO:tensorflow:global_step/sec: 272.804\n",
      "INFO:tensorflow:loss = 2.05987, step = 301 (0.366 sec)\n",
      "INFO:tensorflow:Saving checkpoints for 375 into /var/folders/v9/vrbrlhtd1dz8tdzl3s3d4d3c0000gn/T/tmprdgCDe/model.ckpt.\n",
      "INFO:tensorflow:Loss for final step: 6.53815.\n"
     ]
    },
    {
     "data": {
      "text/plain": [
       "<tensorflow.python.estimator.canned.dnn.DNNClassifier at 0x1021cd1d0>"
      ]
     },
     "execution_count": 1,
     "metadata": {},
     "output_type": "execute_result"
    }
   ],
   "source": [
    "import tensorflow as tf\n",
    "\n",
    "tf.logging.set_verbosity(tf.logging.INFO)\n",
    "\n",
    "def my_input_fn(file_path, perform_shuffle=False, repeat_count=1):\n",
    "    def decode_csv(line):\n",
    "        parsed_line = tf.decode_csv(line, [[0.], [0.], [0.], [0.], [0]])\n",
    "        return {\"x\": parsed_line[:-1]}, parsed_line[-1:]\n",
    "\n",
    "    dataset = (tf.contrib.data.TextLineDataset(file_path)  \n",
    "               .skip(1)  \n",
    "               .map(decode_csv))  \n",
    "    if perform_shuffle:\n",
    "        dataset = dataset.shuffle(buffer_size=256)\n",
    "    dataset = dataset.repeat(repeat_count) \n",
    "    dataset = dataset.batch(32) \n",
    "    iterator = dataset.make_one_shot_iterator()\n",
    "    batch_features, batch_labels = iterator.get_next()\n",
    "    return batch_features, batch_labels\n",
    "\n",
    "feature_columns = [tf.feature_column.numeric_column(\"x\", shape=[4])]\n",
    "classifier = tf.estimator.DNNClassifier(\n",
    "    feature_columns=feature_columns,  \n",
    "    hidden_units=[10, 10],  \n",
    "    n_classes=3)\n",
    "\n",
    "classifier.train(\n",
    "    input_fn=lambda: my_input_fn(\"../../datasets/iris_training.csv\", True, 100))\n"
   ]
  },
  {
   "cell_type": "markdown",
   "metadata": {},
   "source": [
    "### 2. 测试模型。"
   ]
  },
  {
   "cell_type": "code",
   "execution_count": 2,
   "metadata": {},
   "outputs": [
    {
     "name": "stdout",
     "output_type": "stream",
     "text": [
      "INFO:tensorflow:Starting evaluation at 2017-12-28-17:53:53\n",
      "INFO:tensorflow:Restoring parameters from /var/folders/v9/vrbrlhtd1dz8tdzl3s3d4d3c0000gn/T/tmprdgCDe/model.ckpt-375\n",
      "INFO:tensorflow:Finished evaluation at 2017-12-28-17:53:55\n",
      "INFO:tensorflow:Saving dict for global step 375: accuracy = 0.933333, average_loss = 0.0882066, global_step = 375, loss = 2.6462\n",
      "\n",
      "Test accuracy: 93.3333 %\n"
     ]
    }
   ],
   "source": [
    "test_results = classifier.evaluate(\n",
    "    input_fn=lambda: my_input_fn(\"../../datasets/iris_test.csv\", False, 1))\n",
    "print(\"\\nTest accuracy: %g %%\" % (test_results[\"accuracy\"]*100))"
   ]
  },
  {
   "cell_type": "code",
   "execution_count": null,
   "metadata": {
    "collapsed": true
   },
   "outputs": [],
   "source": []
  }
 ],
 "metadata": {
  "kernelspec": {
   "display_name": "Python 2",
   "language": "python",
   "name": "python2"
  },
  "language_info": {
   "codemirror_mode": {
    "name": "ipython",
    "version": 2
   },
   "file_extension": ".py",
   "mimetype": "text/x-python",
   "name": "python",
   "nbconvert_exporter": "python",
   "pygments_lexer": "ipython2",
   "version": "2.7.13"
  }
 },
 "nbformat": 4,
 "nbformat_minor": 2
}
