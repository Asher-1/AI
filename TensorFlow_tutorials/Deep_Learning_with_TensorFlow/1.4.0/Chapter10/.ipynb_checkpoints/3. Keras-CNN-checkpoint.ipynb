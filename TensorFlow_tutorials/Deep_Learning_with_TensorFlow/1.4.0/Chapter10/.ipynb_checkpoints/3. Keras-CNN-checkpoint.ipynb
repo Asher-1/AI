{
 "cells": [
  {
   "cell_type": "markdown",
   "metadata": {},
   "source": [
    "### 1. 数据预处理"
   ]
  },
  {
   "cell_type": "code",
   "execution_count": 1,
   "metadata": {},
   "outputs": [
    {
     "name": "stderr",
     "output_type": "stream",
     "text": [
      "Using TensorFlow backend.\n"
     ]
    }
   ],
   "source": [
    "import keras\n",
    "from keras.datasets import mnist\n",
    "from keras.models import Sequential\n",
    "from keras.layers import Dense, Flatten, Conv2D, MaxPooling2D\n",
    "from keras import backend as K\n",
    "\n",
    "num_classes = 10\n",
    "img_rows, img_cols = 28, 28\n",
    " \n",
    "# 通过Keras封装好的API加载MNIST数据。其中trainX就是一个60000 * 28 * 28的数组，\n",
    "# trainY是每一张图片对应的数字。\n",
    "(trainX, trainY), (testX, testY) = mnist.load_data()\n",
    "\n",
    "# 根据对图像编码的格式要求来设置输入层的格式。\n",
    "if K.image_data_format() == 'channels_first':\n",
    "    trainX = trainX.reshape(trainX.shape[0], 1, img_rows, img_cols)\n",
    "    testX = testX.reshape(testX.shape[0], 1, img_rows, img_cols)\n",
    "    input_shape = (1, img_rows, img_cols)\n",
    "else:\n",
    "    trainX = trainX.reshape(trainX.shape[0], img_rows, img_cols, 1)\n",
    "    testX = testX.reshape(testX.shape[0], img_rows, img_cols, 1)\n",
    "    input_shape = (img_rows, img_cols, 1)\n",
    "    \n",
    "trainX = trainX.astype('float32')\n",
    "testX = testX.astype('float32')\n",
    "trainX /= 255.0\n",
    "testX /= 255.0\n",
    " \n",
    "# 将标准答案转化为需要的格式（one-hot编码）。\n",
    "trainY = keras.utils.to_categorical(trainY, num_classes)\n",
    "testY = keras.utils.to_categorical(testY, num_classes)"
   ]
  },
  {
   "cell_type": "markdown",
   "metadata": {},
   "source": [
    "### 2. 通过Keras的API定义卷机神经网络。"
   ]
  },
  {
   "cell_type": "code",
   "execution_count": 2,
   "metadata": {
    "collapsed": true
   },
   "outputs": [],
   "source": [
    "# 使用Keras API定义模型。\n",
    "model = Sequential()\n",
    "model.add(Conv2D(32, kernel_size=(5, 5), activation='relu', input_shape=input_shape))\n",
    "model.add(MaxPooling2D(pool_size=(2, 2)))\n",
    "model.add(Conv2D(64, (5, 5), activation='relu'))\n",
    "model.add(MaxPooling2D(pool_size=(2, 2)))\n",
    "model.add(Flatten())\n",
    "model.add(Dense(500, activation='relu'))\n",
    "model.add(Dense(num_classes, activation='softmax'))\n",
    " \n",
    "# 定义损失函数、优化函数和评测方法。\n",
    "model.compile(loss=keras.losses.categorical_crossentropy,\n",
    "              optimizer=keras.optimizers.SGD(),\n",
    "              metrics=['accuracy'])"
   ]
  },
  {
   "cell_type": "markdown",
   "metadata": {},
   "source": [
    "### 3. 通过Keras的API训练模型并计算在测试数据上的准确率。"
   ]
  },
  {
   "cell_type": "code",
   "execution_count": 3,
   "metadata": {},
   "outputs": [
    {
     "name": "stdout",
     "output_type": "stream",
     "text": [
      "Train on 60000 samples, validate on 10000 samples\n",
      "Epoch 1/10\n",
      "60000/60000 [==============================] - 183s 3ms/step - loss: 1.0468 - acc: 0.7266 - val_loss: 0.3387 - val_acc: 0.8909\n",
      "Epoch 2/10\n",
      "60000/60000 [==============================] - 189s 3ms/step - loss: 0.2722 - acc: 0.9181 - val_loss: 0.2052 - val_acc: 0.9397\n",
      "Epoch 3/10\n",
      "60000/60000 [==============================] - 192s 3ms/step - loss: 0.1915 - acc: 0.9428 - val_loss: 0.1493 - val_acc: 0.9556\n",
      "Epoch 4/10\n",
      "60000/60000 [==============================] - 191s 3ms/step - loss: 0.1498 - acc: 0.9559 - val_loss: 0.1152 - val_acc: 0.9677\n",
      "Epoch 5/10\n",
      "60000/60000 [==============================] - 189s 3ms/step - loss: 0.1229 - acc: 0.9638 - val_loss: 0.1147 - val_acc: 0.9663\n",
      "Epoch 6/10\n",
      "60000/60000 [==============================] - 212s 4ms/step - loss: 0.1055 - acc: 0.9683 - val_loss: 0.0835 - val_acc: 0.9765\n",
      "Epoch 7/10\n",
      "60000/60000 [==============================] - 277s 5ms/step - loss: 0.0934 - acc: 0.9720 - val_loss: 0.0803 - val_acc: 0.9748\n",
      "Epoch 8/10\n",
      "60000/60000 [==============================] - 260s 4ms/step - loss: 0.0838 - acc: 0.9749 - val_loss: 0.0747 - val_acc: 0.9781\n",
      "Epoch 9/10\n",
      "60000/60000 [==============================] - 247s 4ms/step - loss: 0.0765 - acc: 0.9767 - val_loss: 0.0693 - val_acc: 0.9788\n",
      "Epoch 10/10\n",
      "60000/60000 [==============================] - 242s 4ms/step - loss: 0.0711 - acc: 0.9788 - val_loss: 0.0659 - val_acc: 0.9804\n",
      "10000/10000 [==============================] - 19s 2ms/step\n",
      "('Test loss:', 0.065869684981741006)\n",
      "('Test accuracy:', 0.98040000000000005)\n"
     ]
    }
   ],
   "source": [
    "model.fit(trainX, trainY,\n",
    "          batch_size=128,\n",
    "          epochs=10,\n",
    "          validation_data=(testX, testY))\n",
    " \n",
    "# 在测试数据上计算准确率。\n",
    "score = model.evaluate(testX, testY)\n",
    "print('Test loss:', score[0])\n",
    "print('Test accuracy:', score[1])"
   ]
  }
 ],
 "metadata": {
  "kernelspec": {
   "display_name": "Python 2",
   "language": "python",
   "name": "python2"
  },
  "language_info": {
   "codemirror_mode": {
    "name": "ipython",
    "version": 2
   },
   "file_extension": ".py",
   "mimetype": "text/x-python",
   "name": "python",
   "nbconvert_exporter": "python",
   "pygments_lexer": "ipython2",
   "version": "2.7.13"
  }
 },
 "nbformat": 4,
 "nbformat_minor": 2
}
