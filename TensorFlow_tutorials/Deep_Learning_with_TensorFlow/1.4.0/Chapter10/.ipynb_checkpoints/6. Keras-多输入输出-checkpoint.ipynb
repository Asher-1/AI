{
 "cells": [
  {
   "cell_type": "markdown",
   "metadata": {},
   "source": [
    "### 1. 数据预处理。"
   ]
  },
  {
   "cell_type": "code",
   "execution_count": 1,
   "metadata": {},
   "outputs": [
    {
     "name": "stderr",
     "output_type": "stream",
     "text": [
      "Using TensorFlow backend.\n"
     ]
    },
    {
     "name": "stdout",
     "output_type": "stream",
     "text": [
      "hdf5 is not supported on this machine (please install/reinstall h5py for optimal experience)\n"
     ]
    }
   ],
   "source": [
    "import keras\n",
    "from tflearn.layers.core import fully_connected\n",
    "from keras.datasets import mnist\n",
    "from keras.layers import Input, Dense\n",
    "from keras.models import Model\n",
    "\n",
    "num_classes = 10\n",
    "img_rows, img_cols = 28, 28\n",
    " \n",
    "# 通过Keras封装好的API加载MNIST数据。\n",
    "(trainX, trainY), (testX, testY) = mnist.load_data()\n",
    "trainX = trainX.reshape(trainX.shape[0], img_rows * img_cols)\n",
    "testX = testX.reshape(testX.shape[0], img_rows * img_cols)\n",
    "\n",
    "trainX = trainX.astype('float32')\n",
    "testX = testX.astype('float32')\n",
    "trainX /= 255.0\n",
    "testX /= 255.0\n",
    "\n",
    "trainY = keras.utils.to_categorical(trainY, num_classes)\n",
    "testY = keras.utils.to_categorical(testY, num_classes)"
   ]
  },
  {
   "cell_type": "markdown",
   "metadata": {},
   "source": [
    "### 2. 定义模型。"
   ]
  },
  {
   "cell_type": "code",
   "execution_count": 2,
   "metadata": {
    "collapsed": true
   },
   "outputs": [],
   "source": [
    "# 定义两个输入。\n",
    "input1 = Input(shape=(784,), name = \"input1\")\n",
    "input2 = Input(shape=(10,), name = \"input2\")\n",
    "\n",
    "# 定义第一个输出。\n",
    "x = Dense(1, activation='relu')(input1)\n",
    "output1 = Dense(10, activation='softmax', name = \"output1\")(x)\n",
    "\n",
    "# 定义第二个输出。\n",
    "y = keras.layers.concatenate([x, input2])\n",
    "output2 = Dense(10, activation='softmax', name = \"output2\")(y)\n",
    "\n",
    "model = Model(inputs=[input1, input2], outputs=[output1, output2])\n",
    "\n",
    "# 定义损失函数、优化函数和评测方法。\n",
    "model.compile(loss=keras.losses.categorical_crossentropy,\n",
    "              optimizer=keras.optimizers.SGD(),\n",
    "              loss_weights = [1, 0.1],\n",
    "              metrics=['accuracy'])"
   ]
  },
  {
   "cell_type": "markdown",
   "metadata": {},
   "source": [
    "### 3. 模型训练。"
   ]
  },
  {
   "cell_type": "code",
   "execution_count": 3,
   "metadata": {},
   "outputs": [
    {
     "name": "stdout",
     "output_type": "stream",
     "text": [
      "Train on 60000 samples, validate on 10000 samples\n",
      "Epoch 1/20\n",
      "60000/60000 [==============================] - 12s 206us/step - loss: 2.4188 - output1_loss: 2.2026 - output2_loss: 2.1615 - output1_acc: 0.1332 - output2_acc: 0.2952 - val_loss: 2.3484 - val_output1_loss: 2.1325 - val_output2_loss: 2.1597 - val_output1_acc: 0.1712 - val_output2_acc: 0.3361\n",
      "Epoch 2/20\n",
      "60000/60000 [==============================] - 7s 115us/step - loss: 2.3223 - output1_loss: 2.1088 - output2_loss: 2.1357 - output1_acc: 0.1713 - output2_acc: 0.3699 - val_loss: 2.2863 - val_output1_loss: 2.0749 - val_output2_loss: 2.1136 - val_output1_acc: 0.1835 - val_output2_acc: 0.3901\n",
      "Epoch 3/20\n",
      "60000/60000 [==============================] - 7s 117us/step - loss: 2.2678 - output1_loss: 2.0598 - output2_loss: 2.0802 - output1_acc: 0.1804 - output2_acc: 0.4001 - val_loss: 2.2376 - val_output1_loss: 2.0329 - val_output2_loss: 2.0478 - val_output1_acc: 0.1901 - val_output2_acc: 0.4154\n",
      "Epoch 4/20\n",
      "60000/60000 [==============================] - 7s 113us/step - loss: 2.2212 - output1_loss: 2.0203 - output2_loss: 2.0091 - output1_acc: 0.1859 - output2_acc: 0.4444 - val_loss: 2.1941 - val_output1_loss: 1.9972 - val_output2_loss: 1.9689 - val_output1_acc: 0.1922 - val_output2_acc: 0.4774\n",
      "Epoch 5/20\n",
      "60000/60000 [==============================] - 7s 114us/step - loss: 2.1794 - output1_loss: 1.9867 - output2_loss: 1.9271 - output1_acc: 0.2000 - output2_acc: 0.5459 - val_loss: 2.1540 - val_output1_loss: 1.9659 - val_output2_loss: 1.8813 - val_output1_acc: 0.2721 - val_output2_acc: 0.6365\n",
      "Epoch 6/20\n",
      "60000/60000 [==============================] - 7s 120us/step - loss: 2.1381 - output1_loss: 1.9540 - output2_loss: 1.8416 - output1_acc: 0.2572 - output2_acc: 0.6764 - val_loss: 2.1109 - val_output1_loss: 1.9312 - val_output2_loss: 1.7964 - val_output1_acc: 0.2639 - val_output2_acc: 0.7099\n",
      "Epoch 7/20\n",
      "60000/60000 [==============================] - 6s 108us/step - loss: 2.0942 - output1_loss: 1.9179 - output2_loss: 1.7622 - output1_acc: 0.2548 - output2_acc: 0.7136 - val_loss: 2.0672 - val_output1_loss: 1.8951 - val_output2_loss: 1.7213 - val_output1_acc: 0.2660 - val_output2_acc: 0.7348\n",
      "Epoch 8/20\n",
      "60000/60000 [==============================] - 8s 130us/step - loss: 2.0539 - output1_loss: 1.8846 - output2_loss: 1.6925 - output1_acc: 0.2590 - output2_acc: 0.7319 - val_loss: 2.0306 - val_output1_loss: 1.8651 - val_output2_loss: 1.6550 - val_output1_acc: 0.2688 - val_output2_acc: 0.7445\n",
      "Epoch 9/20\n",
      "60000/60000 [==============================] - 7s 124us/step - loss: 2.0223 - output1_loss: 1.8592 - output2_loss: 1.6318 - output1_acc: 0.2646 - output2_acc: 0.7460 - val_loss: 2.0031 - val_output1_loss: 1.8432 - val_output2_loss: 1.5988 - val_output1_acc: 0.2768 - val_output2_acc: 0.7597ss: 1.6345 - output1_acc: 0.2652 - output2_acc\n",
      "Epoch 10/20\n",
      "60000/60000 [==============================] - 8s 129us/step - loss: 1.9975 - output1_loss: 1.8396 - output2_loss: 1.5782 - output1_acc: 0.2665 - output2_acc: 0.8286 - val_loss: 1.9809 - val_output1_loss: 1.8261 - val_output2_loss: 1.5479 - val_output1_acc: 0.2797 - val_output2_acc: 0.8344\n",
      "Epoch 11/20\n",
      "60000/60000 [==============================] - 7s 119us/step - loss: 1.9773 - output1_loss: 1.8243 - output2_loss: 1.5300 - output1_acc: 0.2698 - output2_acc: 0.8369 - val_loss: 1.9633 - val_output1_loss: 1.8132 - val_output2_loss: 1.5013 - val_output1_acc: 0.2723 - val_output2_acc: 0.8364\n",
      "Epoch 12/20\n",
      "60000/60000 [==============================] - 7s 124us/step - loss: 1.9605 - output1_loss: 1.8120 - output2_loss: 1.4855 - output1_acc: 0.2693 - output2_acc: 0.8405 - val_loss: 1.9475 - val_output1_loss: 1.8016 - val_output2_loss: 1.4594 - val_output1_acc: 0.2828 - val_output2_acc: 0.8456\n",
      "Epoch 13/20\n",
      "60000/60000 [==============================] - 8s 127us/step - loss: 1.9461 - output1_loss: 1.8017 - output2_loss: 1.4442 - output1_acc: 0.2732 - output2_acc: 0.8436 - val_loss: 1.9343 - val_output1_loss: 1.7923 - val_output2_loss: 1.4193 - val_output1_acc: 0.2775 - val_output2_acc: 0.8440\n",
      "Epoch 14/20\n",
      "60000/60000 [==============================] - 9s 145us/step - loss: 1.9336 - output1_loss: 1.7931 - output2_loss: 1.4051 - output1_acc: 0.2749 - output2_acc: 0.8551 - val_loss: 1.9228 - val_output1_loss: 1.7846 - val_output2_loss: 1.3819 - val_output1_acc: 0.2865 - val_output2_acc: 0.9363\n",
      "Epoch 15/20\n",
      "60000/60000 [==============================] - 7s 121us/step - loss: 1.9224 - output1_loss: 1.7856 - output2_loss: 1.3681 - output1_acc: 0.2782 - output2_acc: 0.9404 - val_loss: 1.9124 - val_output1_loss: 1.7778 - val_output2_loss: 1.3457 - val_output1_acc: 0.2906 - val_output2_acc: 0.9460\n",
      "Epoch 16/20\n",
      "60000/60000 [==============================] - 7s 111us/step - loss: 1.9124 - output1_loss: 1.7792 - output2_loss: 1.3324 - output1_acc: 0.2795 - output2_acc: 0.9450 - val_loss: 1.9025 - val_output1_loss: 1.7714 - val_output2_loss: 1.3115 - val_output1_acc: 0.2916 - val_output2_acc: 0.9458\n",
      "Epoch 17/20\n",
      "60000/60000 [==============================] - 7s 111us/step - loss: 1.9032 - output1_loss: 1.7734 - output2_loss: 1.2984 - output1_acc: 0.2826 - output2_acc: 0.9481 - val_loss: 1.8936 - val_output1_loss: 1.7658 - val_output2_loss: 1.2777 - val_output1_acc: 0.2963 - val_output2_acc: 0.9497\n",
      "Epoch 18/20\n",
      "60000/60000 [==============================] - 7s 114us/step - loss: 1.8949 - output1_loss: 1.7683 - output2_loss: 1.2654 - output1_acc: 0.2850 - output2_acc: 0.9515 - val_loss: 1.8855 - val_output1_loss: 1.7610 - val_output2_loss: 1.2458 - val_output1_acc: 0.2999 - val_output2_acc: 0.9515\n",
      "Epoch 19/20\n",
      "60000/60000 [==============================] - 7s 112us/step - loss: 1.8869 - output1_loss: 1.7636 - output2_loss: 1.2334 - output1_acc: 0.2880 - output2_acc: 0.9546 - val_loss: 1.8791 - val_output1_loss: 1.7576 - val_output2_loss: 1.2149 - val_output1_acc: 0.2851 - val_output2_acc: 0.9531\n",
      "Epoch 20/20\n",
      "60000/60000 [==============================] - 7s 110us/step - loss: 1.8798 - output1_loss: 1.7595 - output2_loss: 1.2027 - output1_acc: 0.2891 - output2_acc: 0.9578 - val_loss: 1.8714 - val_output1_loss: 1.7529 - val_output2_loss: 1.1845 - val_output1_acc: 0.2966 - val_output2_acc: 0.9561\n"
     ]
    },
    {
     "data": {
      "text/plain": [
       "<keras.callbacks.History at 0x11e207a10>"
      ]
     },
     "execution_count": 3,
     "metadata": {},
     "output_type": "execute_result"
    }
   ],
   "source": [
    "model.fit([trainX, trainY], [trainY, trainY],\n",
    "          batch_size=128,\n",
    "          epochs=20,\n",
    "          validation_data=([testX, testY], [testY, testY]))"
   ]
  },
  {
   "cell_type": "code",
   "execution_count": null,
   "metadata": {
    "collapsed": true
   },
   "outputs": [],
   "source": []
  }
 ],
 "metadata": {
  "kernelspec": {
   "display_name": "Python 2",
   "language": "python",
   "name": "python2"
  },
  "language_info": {
   "codemirror_mode": {
    "name": "ipython",
    "version": 2
   },
   "file_extension": ".py",
   "mimetype": "text/x-python",
   "name": "python",
   "nbconvert_exporter": "python",
   "pygments_lexer": "ipython2",
   "version": "2.7.13"
  }
 },
 "nbformat": 4,
 "nbformat_minor": 2
}
