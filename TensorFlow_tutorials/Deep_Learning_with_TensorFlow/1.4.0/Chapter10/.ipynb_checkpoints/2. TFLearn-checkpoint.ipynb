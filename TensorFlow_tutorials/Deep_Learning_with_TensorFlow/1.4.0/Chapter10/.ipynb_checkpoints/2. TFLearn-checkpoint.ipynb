{
 "cells": [
  {
   "cell_type": "markdown",
   "metadata": {},
   "source": [
    "### 1. 通过TFLearn的API定义卷机神经网络。"
   ]
  },
  {
   "cell_type": "code",
   "execution_count": 1,
   "metadata": {},
   "outputs": [
    {
     "name": "stdout",
     "output_type": "stream",
     "text": [
      "hdf5 is not supported on this machine (please install/reinstall h5py for optimal experience)\n",
      "Extracting ../../datasets/MNIST_data/train-images-idx3-ubyte.gz\n",
      "Extracting ../../datasets/MNIST_data/train-labels-idx1-ubyte.gz\n",
      "Extracting ../../datasets/MNIST_data/t10k-images-idx3-ubyte.gz\n",
      "Extracting ../../datasets/MNIST_data/t10k-labels-idx1-ubyte.gz\n",
      "WARNING:tensorflow:From /usr/local/lib/python2.7/site-packages/tflearn/initializations.py:119: __init__ (from tensorflow.python.ops.init_ops) is deprecated and will be removed in a future version.\n",
      "Instructions for updating:\n",
      "Use tf.initializers.variance_scaling instead with distribution=uniform to get equivalent behavior.\n"
     ]
    }
   ],
   "source": [
    "import tflearn\n",
    "from tflearn.layers.core import input_data, dropout, fully_connected\n",
    "from tflearn.layers.conv import conv_2d, max_pool_2d\n",
    "from tflearn.layers.estimator import regression\n",
    " \n",
    "import tflearn.datasets.mnist as mnist\n",
    "\n",
    "trainX, trainY, testX, testY = mnist.load_data(\n",
    "    data_dir=\"../../datasets/MNIST_data\", one_hot=True)\n",
    "# 将图像数据resize成卷积卷积神经网络输入的格式。\n",
    "trainX = trainX.reshape([-1, 28, 28, 1])\n",
    "testX = testX.reshape([-1, 28, 28, 1])\n",
    " \n",
    "# 构建神经网络。\n",
    "net = input_data(shape=[None, 28, 28, 1], name='input')\n",
    "net = conv_2d(net, 32, 5, activation='relu')\n",
    "net = max_pool_2d(net, 2)\n",
    "net = conv_2d(net, 64, 5, activation='relu')\n",
    "net = max_pool_2d(net, 2)\n",
    "net = fully_connected(net, 500, activation='relu')\n",
    "net = fully_connected(net, 10, activation='softmax')\n",
    "# 定义学习任务。指定优化器为sgd，学习率为0.01，损失函数为交叉熵。\n",
    "net = regression(net, optimizer='sgd', learning_rate=0.01,\n",
    "                 loss='categorical_crossentropy')"
   ]
  },
  {
   "cell_type": "markdown",
   "metadata": {},
   "source": [
    "### 2. 通过TFLearn的API训练神经网络。"
   ]
  },
  {
   "cell_type": "code",
   "execution_count": 2,
   "metadata": {},
   "outputs": [
    {
     "name": "stdout",
     "output_type": "stream",
     "text": [
      "Training Step: 8599  | total loss: \u001b[1m\u001b[32m0.04862\u001b[0m\u001b[0m | time: 261.971s\n",
      "| SGD | epoch: 010 | loss: 0.04862 - acc: 0.9873 -- iter: 54976/55000\n",
      "Training Step: 8600  | total loss: \u001b[1m\u001b[32m0.04541\u001b[0m\u001b[0m | time: 276.273s\n",
      "| SGD | epoch: 010 | loss: 0.04541 - acc: 0.9885 | val_loss: 0.05063 - val_acc: 0.9838 -- iter: 55000/55000\n",
      "--\n"
     ]
    }
   ],
   "source": [
    "# 通过定义的网络结构训练模型，并在指定的验证数据上验证模型的效果。\n",
    "model = tflearn.DNN(net, tensorboard_verbose=0)\n",
    "model.fit(trainX, trainY, n_epoch=10,\n",
    "          validation_set=([testX, testY]),\n",
    "          show_metric=True)"
   ]
  }
 ],
 "metadata": {
  "kernelspec": {
   "display_name": "Python 2",
   "language": "python",
   "name": "python2"
  },
  "language_info": {
   "codemirror_mode": {
    "name": "ipython",
    "version": 2
   },
   "file_extension": ".py",
   "mimetype": "text/x-python",
   "name": "python",
   "nbconvert_exporter": "python",
   "pygments_lexer": "ipython2",
   "version": "2.7.13"
  }
 },
 "nbformat": 4,
 "nbformat_minor": 2
}
