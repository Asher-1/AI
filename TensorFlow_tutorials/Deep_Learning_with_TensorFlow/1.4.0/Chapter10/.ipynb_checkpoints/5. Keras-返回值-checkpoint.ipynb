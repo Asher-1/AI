{
 "cells": [
  {
   "cell_type": "markdown",
   "metadata": {},
   "source": [
    "### 1. 数据预处理。"
   ]
  },
  {
   "cell_type": "code",
   "execution_count": 1,
   "metadata": {},
   "outputs": [
    {
     "name": "stderr",
     "output_type": "stream",
     "text": [
      "Using TensorFlow backend.\n"
     ]
    },
    {
     "name": "stdout",
     "output_type": "stream",
     "text": [
      "hdf5 is not supported on this machine (please install/reinstall h5py for optimal experience)\n"
     ]
    }
   ],
   "source": [
    "import keras\n",
    "from tflearn.layers.core import fully_connected\n",
    "from keras.datasets import mnist\n",
    "from keras.layers import Input, Dense\n",
    "from keras.models import Model\n",
    "\n",
    "num_classes = 10\n",
    "img_rows, img_cols = 28, 28\n",
    " \n",
    "# 通过Keras封装好的API加载MNIST数据。\n",
    "(trainX, trainY), (testX, testY) = mnist.load_data()\n",
    "trainX = trainX.reshape(trainX.shape[0], img_rows * img_cols)\n",
    "testX = testX.reshape(testX.shape[0], img_rows * img_cols)\n",
    " \n",
    "# 将图像像素转化为0到1之间的实数。\n",
    "trainX = trainX.astype('float32')\n",
    "testX = testX.astype('float32')\n",
    "trainX /= 255.0\n",
    "testX /= 255.0\n",
    " \n",
    "# 将标准答案转化为需要的格式（one-hot编码）。\n",
    "trainY = keras.utils.to_categorical(trainY, num_classes)\n",
    "testY = keras.utils.to_categorical(testY, num_classes)"
   ]
  },
  {
   "cell_type": "markdown",
   "metadata": {},
   "source": [
    "### 2. 通过返回值的方式定义模型。"
   ]
  },
  {
   "cell_type": "code",
   "execution_count": 2,
   "metadata": {
    "collapsed": true
   },
   "outputs": [],
   "source": [
    "inputs = Input(shape=(784,))\n",
    "\n",
    "x = Dense(500, activation='relu')(inputs)\n",
    "predictions = Dense(10, activation='softmax')(x)\n",
    "\n",
    "model = Model(inputs=inputs, outputs=predictions)\n",
    "model.compile(loss=keras.losses.categorical_crossentropy,\n",
    "              optimizer=keras.optimizers.SGD(),\n",
    "              metrics=['accuracy'])"
   ]
  },
  {
   "cell_type": "markdown",
   "metadata": {},
   "source": [
    "### 3. 训练模型。"
   ]
  },
  {
   "cell_type": "code",
   "execution_count": 3,
   "metadata": {},
   "outputs": [
    {
     "name": "stdout",
     "output_type": "stream",
     "text": [
      "Train on 60000 samples, validate on 10000 samples\n",
      "Epoch 1/10\n",
      "60000/60000 [==============================] - 29s 491us/step - loss: 0.6104 - acc: 0.8494 - val_loss: 0.3402 - val_acc: 0.9089\n",
      "Epoch 2/10\n",
      "60000/60000 [==============================] - 22s 365us/step - loss: 0.3200 - acc: 0.9111 - val_loss: 0.2761 - val_acc: 0.9253\n",
      "Epoch 3/10\n",
      "60000/60000 [==============================] - 21s 357us/step - loss: 0.2710 - acc: 0.9243 - val_loss: 0.2431 - val_acc: 0.9317\n",
      "Epoch 4/10\n",
      "60000/60000 [==============================] - 23s 376us/step - loss: 0.2401 - acc: 0.9328 - val_loss: 0.2201 - val_acc: 0.9393\n",
      "Epoch 5/10\n",
      "60000/60000 [==============================] - 25s 412us/step - loss: 0.2167 - acc: 0.9390 - val_loss: 0.2035 - val_acc: 0.9429\n",
      "Epoch 6/10\n",
      "60000/60000 [==============================] - 25s 411us/step - loss: 0.1978 - acc: 0.9451 - val_loss: 0.1867 - val_acc: 0.9471\n",
      "Epoch 7/10\n",
      "60000/60000 [==============================] - 24s 397us/step - loss: 0.1822 - acc: 0.9492 - val_loss: 0.1735 - val_acc: 0.9510\n",
      "Epoch 8/10\n",
      "60000/60000 [==============================] - 22s 365us/step - loss: 0.1691 - acc: 0.9533 - val_loss: 0.1630 - val_acc: 0.9537\n",
      "Epoch 9/10\n",
      "60000/60000 [==============================] - 20s 329us/step - loss: 0.1574 - acc: 0.9559 - val_loss: 0.1538 - val_acc: 0.9561\n",
      "Epoch 10/10\n",
      "60000/60000 [==============================] - 21s 345us/step - loss: 0.1475 - acc: 0.9593 - val_loss: 0.1456 - val_acc: 0.9572\n"
     ]
    },
    {
     "data": {
      "text/plain": [
       "<keras.callbacks.History at 0x1123fbc90>"
      ]
     },
     "execution_count": 3,
     "metadata": {},
     "output_type": "execute_result"
    }
   ],
   "source": [
    "model.fit(trainX, trainY,\n",
    "          batch_size=32,\n",
    "          epochs=10,\n",
    "          validation_data=(testX, testY))"
   ]
  },
  {
   "cell_type": "code",
   "execution_count": null,
   "metadata": {
    "collapsed": true
   },
   "outputs": [],
   "source": []
  }
 ],
 "metadata": {
  "kernelspec": {
   "display_name": "Python 2",
   "language": "python",
   "name": "python2"
  },
  "language_info": {
   "codemirror_mode": {
    "name": "ipython",
    "version": 2
   },
   "file_extension": ".py",
   "mimetype": "text/x-python",
   "name": "python",
   "nbconvert_exporter": "python",
   "pygments_lexer": "ipython2",
   "version": "2.7.13"
  }
 },
 "nbformat": 4,
 "nbformat_minor": 2
}
