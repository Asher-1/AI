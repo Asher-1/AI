{
 "cells": [
  {
   "cell_type": "markdown",
   "metadata": {},
   "source": [
    "### 1. 数据预处理。"
   ]
  },
  {
   "cell_type": "code",
   "execution_count": 1,
   "metadata": {},
   "outputs": [
    {
     "name": "stderr",
     "output_type": "stream",
     "text": [
      "Using TensorFlow backend.\n"
     ]
    },
    {
     "name": "stdout",
     "output_type": "stream",
     "text": [
      "(25000, 'train sequences')\n",
      "(25000, 'test sequences')\n",
      "('trainX shape:', (25000, 80))\n",
      "('testX shape:', (25000, 80))\n"
     ]
    }
   ],
   "source": [
    "from keras.preprocessing import sequence\n",
    "from keras.models import Sequential\n",
    "from keras.layers import Dense, Embedding\n",
    "from keras.layers import LSTM\n",
    "from keras.datasets import imdb\n",
    "\n",
    "max_features = 20000\n",
    "maxlen = 80  \n",
    "batch_size = 32\n",
    "\n",
    "# 加载数据并将单词转化为ID，max_features给出了最多使用的单词数。\n",
    "(trainX, trainY), (testX, testY) = imdb.load_data(num_words=max_features)\n",
    "print(len(trainX), 'train sequences')\n",
    "print(len(testX), 'test sequences')\n",
    "\n",
    "# 在自然语言中，每一段话的长度是不一样的，但循环神经网络的循环长度是固定的，\n",
    "# 所以这里需要先将所有段落统一成固定长度。\n",
    "trainX = sequence.pad_sequences(trainX, maxlen=maxlen)\n",
    "testX = sequence.pad_sequences(testX, maxlen=maxlen)\n",
    "print('trainX shape:', trainX.shape)\n",
    "print('testX shape:', testX.shape)"
   ]
  },
  {
   "cell_type": "markdown",
   "metadata": {},
   "source": [
    "### 2. 定义模型。"
   ]
  },
  {
   "cell_type": "code",
   "execution_count": 2,
   "metadata": {
    "collapsed": true
   },
   "outputs": [],
   "source": [
    "model = Sequential()\n",
    "model.add(Embedding(max_features, 128))\n",
    "model.add(LSTM(128, dropout=0.2, recurrent_dropout=0.2))\n",
    "model.add(Dense(1, activation='sigmoid'))\n",
    "\n",
    "model.compile(loss='binary_crossentropy',\n",
    "              optimizer='adam',\n",
    "              metrics=['accuracy'])"
   ]
  },
  {
   "cell_type": "markdown",
   "metadata": {},
   "source": [
    "### 3. 训练、评测模型。"
   ]
  },
  {
   "cell_type": "code",
   "execution_count": 3,
   "metadata": {},
   "outputs": [
    {
     "name": "stdout",
     "output_type": "stream",
     "text": [
      "Train on 25000 samples, validate on 25000 samples\n",
      "Epoch 1/10\n",
      "25000/25000 [==============================] - 489s 20ms/step - loss: 0.4599 - acc: 0.7831 - val_loss: 0.3792 - val_acc: 0.8358\n",
      "Epoch 2/10\n",
      "25000/25000 [==============================] - 441s 18ms/step - loss: 0.2979 - acc: 0.8798 - val_loss: 0.3748 - val_acc: 0.8360\n",
      "Epoch 3/10\n",
      "25000/25000 [==============================] - 455s 18ms/step - loss: 0.2138 - acc: 0.9175 - val_loss: 0.3970 - val_acc: 0.8286\n",
      "Epoch 4/10\n",
      "25000/25000 [==============================] - 329s 13ms/step - loss: 0.1583 - acc: 0.9410 - val_loss: 0.4723 - val_acc: 0.8304\n",
      "Epoch 5/10\n",
      "25000/25000 [==============================] - 295s 12ms/step - loss: 0.1037 - acc: 0.9626 - val_loss: 0.5717 - val_acc: 0.8244\n",
      "Epoch 6/10\n",
      "25000/25000 [==============================] - 312s 12ms/step - loss: 0.0801 - acc: 0.9714 - val_loss: 0.5817 - val_acc: 0.8066\n",
      "Epoch 7/10\n",
      "25000/25000 [==============================] - 286s 11ms/step - loss: 0.0635 - acc: 0.9788 - val_loss: 0.7109 - val_acc: 0.8183\n",
      "Epoch 8/10\n",
      "25000/25000 [==============================] - 274s 11ms/step - loss: 0.0460 - acc: 0.9852 - val_loss: 0.7851 - val_acc: 0.8143\n",
      "Epoch 9/10\n",
      "25000/25000 [==============================] - 233s 9ms/step - loss: 0.0330 - acc: 0.9888 - val_loss: 0.9439 - val_acc: 0.8032\n",
      "Epoch 10/10\n",
      "25000/25000 [==============================] - 226s 9ms/step - loss: 0.0319 - acc: 0.9893 - val_loss: 0.8353 - val_acc: 0.8124\n",
      "25000/25000 [==============================] - 30s 1ms/step\n",
      "('Test loss:', 0.83532543554782868)\n",
      "('Test accuracy:', 0.81240000000000001)\n"
     ]
    }
   ],
   "source": [
    "model.fit(trainX, trainY,\n",
    "          batch_size=batch_size,\n",
    "          epochs=10,\n",
    "          validation_data=(testX, testY))\n",
    "\n",
    "score = model.evaluate(testX, testY, batch_size=batch_size)\n",
    "print('Test loss:', score[0])\n",
    "print('Test accuracy:', score[1])"
   ]
  },
  {
   "cell_type": "code",
   "execution_count": null,
   "metadata": {
    "collapsed": true
   },
   "outputs": [],
   "source": []
  }
 ],
 "metadata": {
  "kernelspec": {
   "display_name": "Python 2",
   "language": "python",
   "name": "python2"
  },
  "language_info": {
   "codemirror_mode": {
    "name": "ipython",
    "version": 2
   },
   "file_extension": ".py",
   "mimetype": "text/x-python",
   "name": "python",
   "nbconvert_exporter": "python",
   "pygments_lexer": "ipython2",
   "version": "2.7.13"
  }
 },
 "nbformat": 4,
 "nbformat_minor": 2
}
